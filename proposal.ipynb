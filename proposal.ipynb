{
 "cells": [
  {
   "cell_type": "markdown",
   "metadata": {},
   "source": [
    "# Proposal for Time Series Trend and Model prediction\n",
    "\n",
    "* Author: Claudia Hernández\n",
    "\n",
    "## Problem A: Trend prediction\n",
    "The trend statistical tests proposed for the time series analysis are listed below, it is important to know the assumptions of each test, mainly if data is expected to be uncorrelated or correlated with previous time points and seasonal effects.\n",
    "\n",
    "### Mann-Kendall test (non-parametric) | STATUS: DONE FOR PROPOSAL FIRST REVIEW \n",
    "\n",
    "The test assesses whether there is a monotonic upward or downward trend in the time series, without assuming any specific distribution of the data. A monotonic trend implies that the data values consistently increase or decrease over time, but not necessarily at a constant rate.\n",
    "\n",
    "* Python function is available here, and it offers different models to consider correlated, uncorrelated and seasonal time series: https://pypi.org/project/pymannkendall/\n",
    "\n",
    "- H0 : there is no trend in the data series\n",
    "- H1 : there is a trend in the data series\n",
    "\n",
    "### Change-point test (Pettitt's test, non-parametric) | STATUS: TO BE DONE IF PROPOSAL IS ACCEPTED.\n",
    "\n",
    "Detects significant shifts in a Time Series\n",
    "\n",
    "- H0 : Absence of a change point\n",
    "- H1 : Presence of change point\n",
    "\n",
    "### Wald-Wolfowitz runs test (non-parametric) | STATUS: TO BE DONE IF PROPOSAL IS ACCEPTED.\n",
    "\n",
    "- H0 : the sequence was generated randomly (no trend)\n",
    "- H1 : the sequence was not generated randomly (has a trend)\n",
    "\n",
    "\n",
    "\n",
    "## Problem B: Time Series Modelling\n",
    "\n",
    "### Approach I. STATUS DONE FOR PROPOSAL FIRST REVIEW \n",
    "AI solution with Pycaret, it uses time lags or time series components as features to build a time series model and to perform future forecasting, it has an automatic function that selects the best model.\n",
    "\n",
    "Some of the algorithms included in pycaret used for forecasting are:\n",
    "\n",
    "    -Linear Regression\n",
    "    -Ridge Regression\n",
    "    -Lasso Regression\n",
    "    -Elastic Net\n",
    "    -Least Angle Regression (LARS)\n",
    "    -Bayesian Ridge\n",
    "    -Polynomial Regression\n",
    "    -Support Vector Regression (SVR)\n",
    "    -Decision Tree Regression\n",
    "    -K-Nearest Neighbors Regression\n",
    "    -Random Forest Regression\n",
    "    -Gradient Boosting Regression\n",
    "    -Extreme Gradient Boosting (XGBoost)\n",
    "    -Light Gradient Boosting Machine (LightGBM)\n",
    "    -CatBoost Regression\n",
    "    -AdaBoost Regression\n",
    "    -Extra Trees Regression\n",
    "\n",
    "### Approach II. STATUS: TO BE DONE IF PROPOSAL IS ACCEPTED\n",
    "\n",
    "Use dedicated time series libraries such as statsmodels or Prophet, which offer built-in support for exponential smoothing methods like Holt-Winters or auto-regressive integrated moving average (ARIMA) models.\n",
    "\n",
    "- Step 1:  Time Series Decomposition\n",
    "\n",
    "Statsmodels is used to decompose the time series into 1) trend component, 2) seasonal components and 3) unexplained variation. \n",
    "\n",
    "* Equation 1.  Observations = trend * (1 + seasonal components)\n",
    "\n",
    "- Step 2: Trend Forecasting\n",
    "\n",
    "For forecasting we use prophet and historical data to estimate the trend as follows:\n",
    "\n",
    "trend_future ~ trend_last_month\n",
    "\n",
    "- Step 3: Time Series Forecasting\n",
    "\n",
    "The forecasted values use the predicted trend and the seasonal components from last year.\n",
    "\n",
    "* Equation 2. Predictions = trend_future * (1 + seasonal_components_last_year)\n",
    "\n",
    "## Problem C: Choose best fitting model to forecast the future\n",
    "\n",
    "Pick the best model of approach 1 (pycaret) and approach 2 (statsmodels + prophet) using the model evaluation metrics:\n",
    "\n",
    "- Mean Absolute Percentual Error\n",
    "- Mean Square Error\n",
    "- R square\n"
   ]
  },
  {
   "cell_type": "code",
   "execution_count": 1,
   "metadata": {},
   "outputs": [],
   "source": [
    "#Load libraries\n",
    "from datetime import datetime\n",
    "import pandas as pd\n",
    "import numpy as np\n",
    "import pandas as pd\n",
    "import pymannkendall as mk\n",
    "import matplotlib.pyplot as plt\n",
    "import statsmodels.api as sm\n",
    "%matplotlib inline"
   ]
  },
  {
   "cell_type": "markdown",
   "metadata": {},
   "source": [
    "# Data processing"
   ]
  },
  {
   "cell_type": "code",
   "execution_count": 2,
   "metadata": {},
   "outputs": [],
   "source": [
    "# Load your time series data into a DataFrame\n",
    "ts_df = pd.read_csv('international-airline-passengers.csv', \n",
    "                    header=None, \n",
    "                    skiprows=1, \n",
    "                    names= ['Month','Passengers'])\n",
    "ts_df.head(3)\n",
    "ts_df['Date'] =ts_df['Month'].apply(lambda x: x + '-01')\n",
    "ts_df.drop(columns=['Month'], inplace=True)\n",
    "ts_df = ts_df.dropna()"
   ]
  },
  {
   "cell_type": "code",
   "execution_count": 3,
   "metadata": {},
   "outputs": [
    {
     "data": {
      "text/html": [
       "<div>\n",
       "<style scoped>\n",
       "    .dataframe tbody tr th:only-of-type {\n",
       "        vertical-align: middle;\n",
       "    }\n",
       "\n",
       "    .dataframe tbody tr th {\n",
       "        vertical-align: top;\n",
       "    }\n",
       "\n",
       "    .dataframe thead th {\n",
       "        text-align: right;\n",
       "    }\n",
       "</style>\n",
       "<table border=\"1\" class=\"dataframe\">\n",
       "  <thead>\n",
       "    <tr style=\"text-align: right;\">\n",
       "      <th></th>\n",
       "      <th>Passengers</th>\n",
       "      <th>Date</th>\n",
       "    </tr>\n",
       "  </thead>\n",
       "  <tbody>\n",
       "    <tr>\n",
       "      <th>139</th>\n",
       "      <td>606.0</td>\n",
       "      <td>1960-08-01</td>\n",
       "    </tr>\n",
       "    <tr>\n",
       "      <th>140</th>\n",
       "      <td>508.0</td>\n",
       "      <td>1960-09-01</td>\n",
       "    </tr>\n",
       "    <tr>\n",
       "      <th>141</th>\n",
       "      <td>461.0</td>\n",
       "      <td>1960-10-01</td>\n",
       "    </tr>\n",
       "    <tr>\n",
       "      <th>142</th>\n",
       "      <td>390.0</td>\n",
       "      <td>1960-11-01</td>\n",
       "    </tr>\n",
       "    <tr>\n",
       "      <th>143</th>\n",
       "      <td>432.0</td>\n",
       "      <td>1960-12-01</td>\n",
       "    </tr>\n",
       "  </tbody>\n",
       "</table>\n",
       "</div>"
      ],
      "text/plain": [
       "     Passengers       Date\n",
       "139       606.0 1960-08-01\n",
       "140       508.0 1960-09-01\n",
       "141       461.0 1960-10-01\n",
       "142       390.0 1960-11-01\n",
       "143       432.0 1960-12-01"
      ]
     },
     "execution_count": 3,
     "metadata": {},
     "output_type": "execute_result"
    }
   ],
   "source": [
    "# Convert 'parsed_date' column to datetime type\n",
    "ts_df['Date'] = pd.to_datetime(ts_df['Date'])\n",
    "ts_df.tail(5)"
   ]
  },
  {
   "cell_type": "markdown",
   "metadata": {},
   "source": [
    "# Time Series Visualization"
   ]
  },
  {
   "cell_type": "code",
   "execution_count": 4,
   "metadata": {},
   "outputs": [
    {
     "data": {
      "image/png": "[encoded data removed]",
      "text/plain": [
       "<Figure size 1200x800 with 1 Axes>"
      ]
     },
     "metadata": {},
     "output_type": "display_data"
    }
   ],
   "source": [
    "ts_df.Passengers.plot(figsize=(12,8));"
   ]
  },
  {
   "cell_type": "markdown",
   "metadata": {},
   "source": [
    "# Autocorrelation ACF plot"
   ]
  },
  {
   "cell_type": "code",
   "execution_count": 5,
   "metadata": {},
   "outputs": [
    {
     "data": {
      "image/png": "[encoded data removed]",
      "text/plain": [
       "<Figure size 1200x800 with 1 Axes>"
      ]
     },
     "metadata": {},
     "output_type": "display_data"
    }
   ],
   "source": [
    "fig, ax = plt.subplots(figsize=(12, 8))\n",
    "sm.graphics.tsa.plot_acf(ts_df.Passengers, lags=20, ax=ax);"
   ]
  },
  {
   "cell_type": "markdown",
   "metadata": {},
   "source": [
    "# Trend Prediction : Mann-Kendall test"
   ]
  },
  {
   "cell_type": "code",
   "execution_count": 6,
   "metadata": {},
   "outputs": [
    {
     "name": "stdout",
     "output_type": "stream",
     "text": [
      "Mann-Kendall Original Test Result: Mann_Kendall_Test(trend='increasing', h=True, p=0.0, z=14.381610025544802, Tau=0.8087606837606838, s=8327.0, var_s=335164.3333333333, slope=2.451216287678477, intercept=90.23803543098887)\n",
      "Mann-Kendall Correlated Seasonal Test Result: Correlated_Seasonal_Mann_Kendall_test(trend='increasing', h=True, p=7.081204407288766e-06, z=4.49123296393777, Tau=0.98989898989899, s=784.0, var_s=30472.000000000004, slope=30.23611111111111, intercept=85.3431712962963)\n"
     ]
    }
   ],
   "source": [
    "\n",
    "# Original Mann-Kendall test is a nonparametric test, \n",
    "# which does not consider serial correlation or seasonal effects\n",
    "def mann_kendall_test_original(data):\n",
    "    result = mk.original_test(data)\n",
    "    return result\n",
    "\n",
    "# This method proposed by Hipel (1994) used, when time series significantly correlated \n",
    "# with the preceding one or more months/seasons.\n",
    "\n",
    "def mann_kendall_correlated_seasonal_test(data):\n",
    "    result = mk.correlated_seasonal_test(data)\n",
    "    return result\n",
    "\n",
    "print(\"Mann-Kendall Original Test Result:\", mann_kendall_test_original(ts_df.Passengers))\n",
    "\n",
    "print(\"Mann-Kendall Correlated Seasonal Test Result:\", mann_kendall_correlated_seasonal_test(ts_df.Passengers))\n"
   ]
  },
  {
   "cell_type": "markdown",
   "metadata": {},
   "source": [
    "# Time Series Modelling Approach I."
   ]
  },
  {
   "cell_type": "markdown",
   "metadata": {},
   "source": []
  },
  {
   "cell_type": "code",
   "execution_count": 7,
   "metadata": {},
   "outputs": [
    {
     "data": {
      "text/html": [
       "<style type=\"text/css\">\n",
       "#T_fc79f_row25_col1 {\n",
       "  background-color: lightgreen;\n",
       "}\n",
       "</style>\n",
       "<table id=\"T_fc79f\">\n",
       "  <thead>\n",
       "    <tr>\n",
       "      <th class=\"blank level0\" >&nbsp;</th>\n",
       "      <th id=\"T_fc79f_level0_col0\" class=\"col_heading level0 col0\" >Description</th>\n",
       "      <th id=\"T_fc79f_level0_col1\" class=\"col_heading level0 col1\" >Value</th>\n",
       "    </tr>\n",
       "  </thead>\n",
       "  <tbody>\n",
       "    <tr>\n",
       "      <th id=\"T_fc79f_level0_row0\" class=\"row_heading level0 row0\" >0</th>\n",
       "      <td id=\"T_fc79f_row0_col0\" class=\"data row0 col0\" >session_id</td>\n",
       "      <td id=\"T_fc79f_row0_col1\" class=\"data row0 col1\" >765</td>\n",
       "    </tr>\n",
       "    <tr>\n",
       "      <th id=\"T_fc79f_level0_row1\" class=\"row_heading level0 row1\" >1</th>\n",
       "      <td id=\"T_fc79f_row1_col0\" class=\"data row1 col0\" >Target</td>\n",
       "      <td id=\"T_fc79f_row1_col1\" class=\"data row1 col1\" >Passengers</td>\n",
       "    </tr>\n",
       "    <tr>\n",
       "      <th id=\"T_fc79f_level0_row2\" class=\"row_heading level0 row2\" >2</th>\n",
       "      <td id=\"T_fc79f_row2_col0\" class=\"data row2 col0\" >Approach</td>\n",
       "      <td id=\"T_fc79f_row2_col1\" class=\"data row2 col1\" >Univariate</td>\n",
       "    </tr>\n",
       "    <tr>\n",
       "      <th id=\"T_fc79f_level0_row3\" class=\"row_heading level0 row3\" >3</th>\n",
       "      <td id=\"T_fc79f_row3_col0\" class=\"data row3 col0\" >Exogenous Variables</td>\n",
       "      <td id=\"T_fc79f_row3_col1\" class=\"data row3 col1\" >Present</td>\n",
       "    </tr>\n",
       "    <tr>\n",
       "      <th id=\"T_fc79f_level0_row4\" class=\"row_heading level0 row4\" >4</th>\n",
       "      <td id=\"T_fc79f_row4_col0\" class=\"data row4 col0\" >Original data shape</td>\n",
       "      <td id=\"T_fc79f_row4_col1\" class=\"data row4 col1\" >(144, 2)</td>\n",
       "    </tr>\n",
       "    <tr>\n",
       "      <th id=\"T_fc79f_level0_row5\" class=\"row_heading level0 row5\" >5</th>\n",
       "      <td id=\"T_fc79f_row5_col0\" class=\"data row5 col0\" >Transformed data shape</td>\n",
       "      <td id=\"T_fc79f_row5_col1\" class=\"data row5 col1\" >(144, 2)</td>\n",
       "    </tr>\n",
       "    <tr>\n",
       "      <th id=\"T_fc79f_level0_row6\" class=\"row_heading level0 row6\" >6</th>\n",
       "      <td id=\"T_fc79f_row6_col0\" class=\"data row6 col0\" >Transformed train set shape</td>\n",
       "      <td id=\"T_fc79f_row6_col1\" class=\"data row6 col1\" >(132, 2)</td>\n",
       "    </tr>\n",
       "    <tr>\n",
       "      <th id=\"T_fc79f_level0_row7\" class=\"row_heading level0 row7\" >7</th>\n",
       "      <td id=\"T_fc79f_row7_col0\" class=\"data row7 col0\" >Transformed test set shape</td>\n",
       "      <td id=\"T_fc79f_row7_col1\" class=\"data row7 col1\" >(12, 2)</td>\n",
       "    </tr>\n",
       "    <tr>\n",
       "      <th id=\"T_fc79f_level0_row8\" class=\"row_heading level0 row8\" >8</th>\n",
       "      <td id=\"T_fc79f_row8_col0\" class=\"data row8 col0\" >Rows with missing values</td>\n",
       "      <td id=\"T_fc79f_row8_col1\" class=\"data row8 col1\" >0.0%</td>\n",
       "    </tr>\n",
       "    <tr>\n",
       "      <th id=\"T_fc79f_level0_row9\" class=\"row_heading level0 row9\" >9</th>\n",
       "      <td id=\"T_fc79f_row9_col0\" class=\"data row9 col0\" >Fold Generator</td>\n",
       "      <td id=\"T_fc79f_row9_col1\" class=\"data row9 col1\" >ExpandingWindowSplitter</td>\n",
       "    </tr>\n",
       "    <tr>\n",
       "      <th id=\"T_fc79f_level0_row10\" class=\"row_heading level0 row10\" >10</th>\n",
       "      <td id=\"T_fc79f_row10_col0\" class=\"data row10 col0\" >Fold Number</td>\n",
       "      <td id=\"T_fc79f_row10_col1\" class=\"data row10 col1\" >3</td>\n",
       "    </tr>\n",
       "    <tr>\n",
       "      <th id=\"T_fc79f_level0_row11\" class=\"row_heading level0 row11\" >11</th>\n",
       "      <td id=\"T_fc79f_row11_col0\" class=\"data row11 col0\" >Enforce Prediction Interval</td>\n",
       "      <td id=\"T_fc79f_row11_col1\" class=\"data row11 col1\" >False</td>\n",
       "    </tr>\n",
       "    <tr>\n",
       "      <th id=\"T_fc79f_level0_row12\" class=\"row_heading level0 row12\" >12</th>\n",
       "      <td id=\"T_fc79f_row12_col0\" class=\"data row12 col0\" >Splits used for hyperparameters</td>\n",
       "      <td id=\"T_fc79f_row12_col1\" class=\"data row12 col1\" >all</td>\n",
       "    </tr>\n",
       "    <tr>\n",
       "      <th id=\"T_fc79f_level0_row13\" class=\"row_heading level0 row13\" >13</th>\n",
       "      <td id=\"T_fc79f_row13_col0\" class=\"data row13 col0\" >User Defined Seasonal Period(s)</td>\n",
       "      <td id=\"T_fc79f_row13_col1\" class=\"data row13 col1\" >None</td>\n",
       "    </tr>\n",
       "    <tr>\n",
       "      <th id=\"T_fc79f_level0_row14\" class=\"row_heading level0 row14\" >14</th>\n",
       "      <td id=\"T_fc79f_row14_col0\" class=\"data row14 col0\" >Ignore Seasonality Test</td>\n",
       "      <td id=\"T_fc79f_row14_col1\" class=\"data row14 col1\" >False</td>\n",
       "    </tr>\n",
       "    <tr>\n",
       "      <th id=\"T_fc79f_level0_row15\" class=\"row_heading level0 row15\" >15</th>\n",
       "      <td id=\"T_fc79f_row15_col0\" class=\"data row15 col0\" >Seasonality Detection Algo</td>\n",
       "      <td id=\"T_fc79f_row15_col1\" class=\"data row15 col1\" >auto</td>\n",
       "    </tr>\n",
       "    <tr>\n",
       "      <th id=\"T_fc79f_level0_row16\" class=\"row_heading level0 row16\" >16</th>\n",
       "      <td id=\"T_fc79f_row16_col0\" class=\"data row16 col0\" >Max Period to Consider</td>\n",
       "      <td id=\"T_fc79f_row16_col1\" class=\"data row16 col1\" >60</td>\n",
       "    </tr>\n",
       "    <tr>\n",
       "      <th id=\"T_fc79f_level0_row17\" class=\"row_heading level0 row17\" >17</th>\n",
       "      <td id=\"T_fc79f_row17_col0\" class=\"data row17 col0\" >Seasonal Period(s) Tested</td>\n",
       "      <td id=\"T_fc79f_row17_col1\" class=\"data row17 col1\" >[12, 24, 36, 11, 48]</td>\n",
       "    </tr>\n",
       "    <tr>\n",
       "      <th id=\"T_fc79f_level0_row18\" class=\"row_heading level0 row18\" >18</th>\n",
       "      <td id=\"T_fc79f_row18_col0\" class=\"data row18 col0\" >Significant Seasonal Period(s)</td>\n",
       "      <td id=\"T_fc79f_row18_col1\" class=\"data row18 col1\" >[12, 24, 36, 11, 48]</td>\n",
       "    </tr>\n",
       "    <tr>\n",
       "      <th id=\"T_fc79f_level0_row19\" class=\"row_heading level0 row19\" >19</th>\n",
       "      <td id=\"T_fc79f_row19_col0\" class=\"data row19 col0\" >Significant Seasonal Period(s) without Harmonics</td>\n",
       "      <td id=\"T_fc79f_row19_col1\" class=\"data row19 col1\" >[48, 36, 11]</td>\n",
       "    </tr>\n",
       "    <tr>\n",
       "      <th id=\"T_fc79f_level0_row20\" class=\"row_heading level0 row20\" >20</th>\n",
       "      <td id=\"T_fc79f_row20_col0\" class=\"data row20 col0\" >Remove Harmonics</td>\n",
       "      <td id=\"T_fc79f_row20_col1\" class=\"data row20 col1\" >False</td>\n",
       "    </tr>\n",
       "    <tr>\n",
       "      <th id=\"T_fc79f_level0_row21\" class=\"row_heading level0 row21\" >21</th>\n",
       "      <td id=\"T_fc79f_row21_col0\" class=\"data row21 col0\" >Harmonics Order Method</td>\n",
       "      <td id=\"T_fc79f_row21_col1\" class=\"data row21 col1\" >harmonic_max</td>\n",
       "    </tr>\n",
       "    <tr>\n",
       "      <th id=\"T_fc79f_level0_row22\" class=\"row_heading level0 row22\" >22</th>\n",
       "      <td id=\"T_fc79f_row22_col0\" class=\"data row22 col0\" >Num Seasonalities to Use</td>\n",
       "      <td id=\"T_fc79f_row22_col1\" class=\"data row22 col1\" >1</td>\n",
       "    </tr>\n",
       "    <tr>\n",
       "      <th id=\"T_fc79f_level0_row23\" class=\"row_heading level0 row23\" >23</th>\n",
       "      <td id=\"T_fc79f_row23_col0\" class=\"data row23 col0\" >All Seasonalities to Use</td>\n",
       "      <td id=\"T_fc79f_row23_col1\" class=\"data row23 col1\" >[12]</td>\n",
       "    </tr>\n",
       "    <tr>\n",
       "      <th id=\"T_fc79f_level0_row24\" class=\"row_heading level0 row24\" >24</th>\n",
       "      <td id=\"T_fc79f_row24_col0\" class=\"data row24 col0\" >Primary Seasonality</td>\n",
       "      <td id=\"T_fc79f_row24_col1\" class=\"data row24 col1\" >12</td>\n",
       "    </tr>\n",
       "    <tr>\n",
       "      <th id=\"T_fc79f_level0_row25\" class=\"row_heading level0 row25\" >25</th>\n",
       "      <td id=\"T_fc79f_row25_col0\" class=\"data row25 col0\" >Seasonality Present</td>\n",
       "      <td id=\"T_fc79f_row25_col1\" class=\"data row25 col1\" >True</td>\n",
       "    </tr>\n",
       "    <tr>\n",
       "      <th id=\"T_fc79f_level0_row26\" class=\"row_heading level0 row26\" >26</th>\n",
       "      <td id=\"T_fc79f_row26_col0\" class=\"data row26 col0\" >Seasonality Type</td>\n",
       "      <td id=\"T_fc79f_row26_col1\" class=\"data row26 col1\" >mul</td>\n",
       "    </tr>\n",
       "    <tr>\n",
       "      <th id=\"T_fc79f_level0_row27\" class=\"row_heading level0 row27\" >27</th>\n",
       "      <td id=\"T_fc79f_row27_col0\" class=\"data row27 col0\" >Target Strictly Positive</td>\n",
       "      <td id=\"T_fc79f_row27_col1\" class=\"data row27 col1\" >True</td>\n",
       "    </tr>\n",
       "    <tr>\n",
       "      <th id=\"T_fc79f_level0_row28\" class=\"row_heading level0 row28\" >28</th>\n",
       "      <td id=\"T_fc79f_row28_col0\" class=\"data row28 col0\" >Target White Noise</td>\n",
       "      <td id=\"T_fc79f_row28_col1\" class=\"data row28 col1\" >No</td>\n",
       "    </tr>\n",
       "    <tr>\n",
       "      <th id=\"T_fc79f_level0_row29\" class=\"row_heading level0 row29\" >29</th>\n",
       "      <td id=\"T_fc79f_row29_col0\" class=\"data row29 col0\" >Recommended d</td>\n",
       "      <td id=\"T_fc79f_row29_col1\" class=\"data row29 col1\" >1</td>\n",
       "    </tr>\n",
       "    <tr>\n",
       "      <th id=\"T_fc79f_level0_row30\" class=\"row_heading level0 row30\" >30</th>\n",
       "      <td id=\"T_fc79f_row30_col0\" class=\"data row30 col0\" >Recommended Seasonal D</td>\n",
       "      <td id=\"T_fc79f_row30_col1\" class=\"data row30 col1\" >1</td>\n",
       "    </tr>\n",
       "    <tr>\n",
       "      <th id=\"T_fc79f_level0_row31\" class=\"row_heading level0 row31\" >31</th>\n",
       "      <td id=\"T_fc79f_row31_col0\" class=\"data row31 col0\" >Preprocess</td>\n",
       "      <td id=\"T_fc79f_row31_col1\" class=\"data row31 col1\" >False</td>\n",
       "    </tr>\n",
       "    <tr>\n",
       "      <th id=\"T_fc79f_level0_row32\" class=\"row_heading level0 row32\" >32</th>\n",
       "      <td id=\"T_fc79f_row32_col0\" class=\"data row32 col0\" >CPU Jobs</td>\n",
       "      <td id=\"T_fc79f_row32_col1\" class=\"data row32 col1\" >-1</td>\n",
       "    </tr>\n",
       "    <tr>\n",
       "      <th id=\"T_fc79f_level0_row33\" class=\"row_heading level0 row33\" >33</th>\n",
       "      <td id=\"T_fc79f_row33_col0\" class=\"data row33 col0\" >Use GPU</td>\n",
       "      <td id=\"T_fc79f_row33_col1\" class=\"data row33 col1\" >False</td>\n",
       "    </tr>\n",
       "    <tr>\n",
       "      <th id=\"T_fc79f_level0_row34\" class=\"row_heading level0 row34\" >34</th>\n",
       "      <td id=\"T_fc79f_row34_col0\" class=\"data row34 col0\" >Log Experiment</td>\n",
       "      <td id=\"T_fc79f_row34_col1\" class=\"data row34 col1\" >False</td>\n",
       "    </tr>\n",
       "    <tr>\n",
       "      <th id=\"T_fc79f_level0_row35\" class=\"row_heading level0 row35\" >35</th>\n",
       "      <td id=\"T_fc79f_row35_col0\" class=\"data row35 col0\" >Experiment Name</td>\n",
       "      <td id=\"T_fc79f_row35_col1\" class=\"data row35 col1\" >ts-default-name</td>\n",
       "    </tr>\n",
       "    <tr>\n",
       "      <th id=\"T_fc79f_level0_row36\" class=\"row_heading level0 row36\" >36</th>\n",
       "      <td id=\"T_fc79f_row36_col0\" class=\"data row36 col0\" >USI</td>\n",
       "      <td id=\"T_fc79f_row36_col1\" class=\"data row36 col1\" >6ac3</td>\n",
       "    </tr>\n",
       "  </tbody>\n",
       "</table>\n"
      ],
      "text/plain": [
       "<pandas.io.formats.style.Styler at 0x2aad631cf70>"
      ]
     },
     "metadata": {},
     "output_type": "display_data"
    }
   ],
   "source": [
    "# import pycaret time series and init setup\n",
    "from pycaret.time_series import *\n",
    "\n",
    "# Set cross validation training and testing strategy \n",
    "# and predict the last 12 months observed (test data) to evaluate and select the best model\n",
    "s = setup(data=ts_df, target='Passengers', session_id=765, fold_strategy='rolling', fh = 12)\n",
    "\n",
    "# Results showing significant seasonal periods\n"
   ]
  },
  {
   "cell_type": "code",
   "execution_count": 8,
   "metadata": {},
   "outputs": [
    {
     "data": {
      "text/html": [
       "<div>\n",
       "<style scoped>\n",
       "    .dataframe tbody tr th:only-of-type {\n",
       "        vertical-align: middle;\n",
       "    }\n",
       "\n",
       "    .dataframe tbody tr th {\n",
       "        vertical-align: top;\n",
       "    }\n",
       "\n",
       "    .dataframe thead th {\n",
       "        text-align: right;\n",
       "    }\n",
       "</style>\n",
       "<table border=\"1\" class=\"dataframe\">\n",
       "  <thead>\n",
       "    <tr style=\"text-align: right;\">\n",
       "      <th></th>\n",
       "      <th>Test</th>\n",
       "      <th>Test Name</th>\n",
       "      <th>Data</th>\n",
       "      <th>Property</th>\n",
       "      <th>Setting</th>\n",
       "      <th>Value</th>\n",
       "    </tr>\n",
       "  </thead>\n",
       "  <tbody>\n",
       "    <tr>\n",
       "      <th>0</th>\n",
       "      <td>Summary</td>\n",
       "      <td>Statistics</td>\n",
       "      <td>Transformed</td>\n",
       "      <td>Length</td>\n",
       "      <td></td>\n",
       "      <td>144.0</td>\n",
       "    </tr>\n",
       "    <tr>\n",
       "      <th>1</th>\n",
       "      <td>Summary</td>\n",
       "      <td>Statistics</td>\n",
       "      <td>Transformed</td>\n",
       "      <td># Missing Values</td>\n",
       "      <td></td>\n",
       "      <td>0.0</td>\n",
       "    </tr>\n",
       "    <tr>\n",
       "      <th>2</th>\n",
       "      <td>Summary</td>\n",
       "      <td>Statistics</td>\n",
       "      <td>Transformed</td>\n",
       "      <td>Mean</td>\n",
       "      <td></td>\n",
       "      <td>280.298611</td>\n",
       "    </tr>\n",
       "    <tr>\n",
       "      <th>3</th>\n",
       "      <td>Summary</td>\n",
       "      <td>Statistics</td>\n",
       "      <td>Transformed</td>\n",
       "      <td>Median</td>\n",
       "      <td></td>\n",
       "      <td>265.5</td>\n",
       "    </tr>\n",
       "    <tr>\n",
       "      <th>4</th>\n",
       "      <td>Summary</td>\n",
       "      <td>Statistics</td>\n",
       "      <td>Transformed</td>\n",
       "      <td>Standard Deviation</td>\n",
       "      <td></td>\n",
       "      <td>119.966317</td>\n",
       "    </tr>\n",
       "    <tr>\n",
       "      <th>5</th>\n",
       "      <td>Summary</td>\n",
       "      <td>Statistics</td>\n",
       "      <td>Transformed</td>\n",
       "      <td>Variance</td>\n",
       "      <td></td>\n",
       "      <td>14391.917201</td>\n",
       "    </tr>\n",
       "    <tr>\n",
       "      <th>6</th>\n",
       "      <td>Summary</td>\n",
       "      <td>Statistics</td>\n",
       "      <td>Transformed</td>\n",
       "      <td>Kurtosis</td>\n",
       "      <td></td>\n",
       "      <td>-0.364942</td>\n",
       "    </tr>\n",
       "    <tr>\n",
       "      <th>7</th>\n",
       "      <td>Summary</td>\n",
       "      <td>Statistics</td>\n",
       "      <td>Transformed</td>\n",
       "      <td>Skewness</td>\n",
       "      <td></td>\n",
       "      <td>0.58316</td>\n",
       "    </tr>\n",
       "    <tr>\n",
       "      <th>8</th>\n",
       "      <td>Summary</td>\n",
       "      <td>Statistics</td>\n",
       "      <td>Transformed</td>\n",
       "      <td># Distinct Values</td>\n",
       "      <td></td>\n",
       "      <td>118.0</td>\n",
       "    </tr>\n",
       "    <tr>\n",
       "      <th>9</th>\n",
       "      <td>White Noise</td>\n",
       "      <td>Ljung-Box</td>\n",
       "      <td>Transformed</td>\n",
       "      <td>Test Statictic</td>\n",
       "      <td>{'alpha': 0.05, 'K': 24}</td>\n",
       "      <td>1606.083817</td>\n",
       "    </tr>\n",
       "    <tr>\n",
       "      <th>10</th>\n",
       "      <td>White Noise</td>\n",
       "      <td>Ljung-Box</td>\n",
       "      <td>Transformed</td>\n",
       "      <td>Test Statictic</td>\n",
       "      <td>{'alpha': 0.05, 'K': 48}</td>\n",
       "      <td>1933.155822</td>\n",
       "    </tr>\n",
       "    <tr>\n",
       "      <th>11</th>\n",
       "      <td>White Noise</td>\n",
       "      <td>Ljung-Box</td>\n",
       "      <td>Transformed</td>\n",
       "      <td>p-value</td>\n",
       "      <td>{'alpha': 0.05, 'K': 24}</td>\n",
       "      <td>0.0</td>\n",
       "    </tr>\n",
       "    <tr>\n",
       "      <th>12</th>\n",
       "      <td>White Noise</td>\n",
       "      <td>Ljung-Box</td>\n",
       "      <td>Transformed</td>\n",
       "      <td>p-value</td>\n",
       "      <td>{'alpha': 0.05, 'K': 48}</td>\n",
       "      <td>0.0</td>\n",
       "    </tr>\n",
       "    <tr>\n",
       "      <th>13</th>\n",
       "      <td>White Noise</td>\n",
       "      <td>Ljung-Box</td>\n",
       "      <td>Transformed</td>\n",
       "      <td>White Noise</td>\n",
       "      <td>{'alpha': 0.05, 'K': 24}</td>\n",
       "      <td>False</td>\n",
       "    </tr>\n",
       "    <tr>\n",
       "      <th>14</th>\n",
       "      <td>White Noise</td>\n",
       "      <td>Ljung-Box</td>\n",
       "      <td>Transformed</td>\n",
       "      <td>White Noise</td>\n",
       "      <td>{'alpha': 0.05, 'K': 48}</td>\n",
       "      <td>False</td>\n",
       "    </tr>\n",
       "    <tr>\n",
       "      <th>15</th>\n",
       "      <td>Stationarity</td>\n",
       "      <td>ADF</td>\n",
       "      <td>Transformed</td>\n",
       "      <td>Stationarity</td>\n",
       "      <td>{'alpha': 0.05}</td>\n",
       "      <td>False</td>\n",
       "    </tr>\n",
       "    <tr>\n",
       "      <th>16</th>\n",
       "      <td>Stationarity</td>\n",
       "      <td>ADF</td>\n",
       "      <td>Transformed</td>\n",
       "      <td>p-value</td>\n",
       "      <td>{'alpha': 0.05}</td>\n",
       "      <td>0.99188</td>\n",
       "    </tr>\n",
       "    <tr>\n",
       "      <th>17</th>\n",
       "      <td>Stationarity</td>\n",
       "      <td>ADF</td>\n",
       "      <td>Transformed</td>\n",
       "      <td>Test Statistic</td>\n",
       "      <td>{'alpha': 0.05}</td>\n",
       "      <td>0.815369</td>\n",
       "    </tr>\n",
       "    <tr>\n",
       "      <th>18</th>\n",
       "      <td>Stationarity</td>\n",
       "      <td>ADF</td>\n",
       "      <td>Transformed</td>\n",
       "      <td>Critical Value 1%</td>\n",
       "      <td>{'alpha': 0.05}</td>\n",
       "      <td>-3.481682</td>\n",
       "    </tr>\n",
       "    <tr>\n",
       "      <th>19</th>\n",
       "      <td>Stationarity</td>\n",
       "      <td>ADF</td>\n",
       "      <td>Transformed</td>\n",
       "      <td>Critical Value 5%</td>\n",
       "      <td>{'alpha': 0.05}</td>\n",
       "      <td>-2.884042</td>\n",
       "    </tr>\n",
       "    <tr>\n",
       "      <th>20</th>\n",
       "      <td>Stationarity</td>\n",
       "      <td>ADF</td>\n",
       "      <td>Transformed</td>\n",
       "      <td>Critical Value 10%</td>\n",
       "      <td>{'alpha': 0.05}</td>\n",
       "      <td>-2.57877</td>\n",
       "    </tr>\n",
       "    <tr>\n",
       "      <th>21</th>\n",
       "      <td>Stationarity</td>\n",
       "      <td>KPSS</td>\n",
       "      <td>Transformed</td>\n",
       "      <td>Trend Stationarity</td>\n",
       "      <td>{'alpha': 0.05}</td>\n",
       "      <td>True</td>\n",
       "    </tr>\n",
       "    <tr>\n",
       "      <th>22</th>\n",
       "      <td>Stationarity</td>\n",
       "      <td>KPSS</td>\n",
       "      <td>Transformed</td>\n",
       "      <td>p-value</td>\n",
       "      <td>{'alpha': 0.05}</td>\n",
       "      <td>0.1</td>\n",
       "    </tr>\n",
       "    <tr>\n",
       "      <th>23</th>\n",
       "      <td>Stationarity</td>\n",
       "      <td>KPSS</td>\n",
       "      <td>Transformed</td>\n",
       "      <td>Test Statistic</td>\n",
       "      <td>{'alpha': 0.05}</td>\n",
       "      <td>0.09615</td>\n",
       "    </tr>\n",
       "    <tr>\n",
       "      <th>24</th>\n",
       "      <td>Stationarity</td>\n",
       "      <td>KPSS</td>\n",
       "      <td>Transformed</td>\n",
       "      <td>Critical Value 10%</td>\n",
       "      <td>{'alpha': 0.05}</td>\n",
       "      <td>0.119</td>\n",
       "    </tr>\n",
       "    <tr>\n",
       "      <th>25</th>\n",
       "      <td>Stationarity</td>\n",
       "      <td>KPSS</td>\n",
       "      <td>Transformed</td>\n",
       "      <td>Critical Value 5%</td>\n",
       "      <td>{'alpha': 0.05}</td>\n",
       "      <td>0.146</td>\n",
       "    </tr>\n",
       "    <tr>\n",
       "      <th>26</th>\n",
       "      <td>Stationarity</td>\n",
       "      <td>KPSS</td>\n",
       "      <td>Transformed</td>\n",
       "      <td>Critical Value 2.5%</td>\n",
       "      <td>{'alpha': 0.05}</td>\n",
       "      <td>0.176</td>\n",
       "    </tr>\n",
       "    <tr>\n",
       "      <th>27</th>\n",
       "      <td>Stationarity</td>\n",
       "      <td>KPSS</td>\n",
       "      <td>Transformed</td>\n",
       "      <td>Critical Value 1%</td>\n",
       "      <td>{'alpha': 0.05}</td>\n",
       "      <td>0.216</td>\n",
       "    </tr>\n",
       "    <tr>\n",
       "      <th>28</th>\n",
       "      <td>Normality</td>\n",
       "      <td>Shapiro</td>\n",
       "      <td>Transformed</td>\n",
       "      <td>Normality</td>\n",
       "      <td>{'alpha': 0.05}</td>\n",
       "      <td>False</td>\n",
       "    </tr>\n",
       "    <tr>\n",
       "      <th>29</th>\n",
       "      <td>Normality</td>\n",
       "      <td>Shapiro</td>\n",
       "      <td>Transformed</td>\n",
       "      <td>p-value</td>\n",
       "      <td>{'alpha': 0.05}</td>\n",
       "      <td>0.000068</td>\n",
       "    </tr>\n",
       "  </tbody>\n",
       "</table>\n",
       "</div>"
      ],
      "text/plain": [
       "            Test   Test Name         Data             Property  \\\n",
       "0        Summary  Statistics  Transformed               Length   \n",
       "1        Summary  Statistics  Transformed     # Missing Values   \n",
       "2        Summary  Statistics  Transformed                 Mean   \n",
       "3        Summary  Statistics  Transformed               Median   \n",
       "4        Summary  Statistics  Transformed   Standard Deviation   \n",
       "5        Summary  Statistics  Transformed             Variance   \n",
       "6        Summary  Statistics  Transformed             Kurtosis   \n",
       "7        Summary  Statistics  Transformed             Skewness   \n",
       "8        Summary  Statistics  Transformed    # Distinct Values   \n",
       "9    White Noise   Ljung-Box  Transformed       Test Statictic   \n",
       "10   White Noise   Ljung-Box  Transformed       Test Statictic   \n",
       "11   White Noise   Ljung-Box  Transformed              p-value   \n",
       "12   White Noise   Ljung-Box  Transformed              p-value   \n",
       "13   White Noise   Ljung-Box  Transformed          White Noise   \n",
       "14   White Noise   Ljung-Box  Transformed          White Noise   \n",
       "15  Stationarity         ADF  Transformed         Stationarity   \n",
       "16  Stationarity         ADF  Transformed              p-value   \n",
       "17  Stationarity         ADF  Transformed       Test Statistic   \n",
       "18  Stationarity         ADF  Transformed    Critical Value 1%   \n",
       "19  Stationarity         ADF  Transformed    Critical Value 5%   \n",
       "20  Stationarity         ADF  Transformed   Critical Value 10%   \n",
       "21  Stationarity        KPSS  Transformed   Trend Stationarity   \n",
       "22  Stationarity        KPSS  Transformed              p-value   \n",
       "23  Stationarity        KPSS  Transformed       Test Statistic   \n",
       "24  Stationarity        KPSS  Transformed   Critical Value 10%   \n",
       "25  Stationarity        KPSS  Transformed    Critical Value 5%   \n",
       "26  Stationarity        KPSS  Transformed  Critical Value 2.5%   \n",
       "27  Stationarity        KPSS  Transformed    Critical Value 1%   \n",
       "28     Normality     Shapiro  Transformed            Normality   \n",
       "29     Normality     Shapiro  Transformed              p-value   \n",
       "\n",
       "                     Setting         Value  \n",
       "0                                    144.0  \n",
       "1                                      0.0  \n",
       "2                               280.298611  \n",
       "3                                    265.5  \n",
       "4                               119.966317  \n",
       "5                             14391.917201  \n",
       "6                                -0.364942  \n",
       "7                                  0.58316  \n",
       "8                                    118.0  \n",
       "9   {'alpha': 0.05, 'K': 24}   1606.083817  \n",
       "10  {'alpha': 0.05, 'K': 48}   1933.155822  \n",
       "11  {'alpha': 0.05, 'K': 24}           0.0  \n",
       "12  {'alpha': 0.05, 'K': 48}           0.0  \n",
       "13  {'alpha': 0.05, 'K': 24}         False  \n",
       "14  {'alpha': 0.05, 'K': 48}         False  \n",
       "15           {'alpha': 0.05}         False  \n",
       "16           {'alpha': 0.05}       0.99188  \n",
       "17           {'alpha': 0.05}      0.815369  \n",
       "18           {'alpha': 0.05}     -3.481682  \n",
       "19           {'alpha': 0.05}     -2.884042  \n",
       "20           {'alpha': 0.05}      -2.57877  \n",
       "21           {'alpha': 0.05}          True  \n",
       "22           {'alpha': 0.05}           0.1  \n",
       "23           {'alpha': 0.05}       0.09615  \n",
       "24           {'alpha': 0.05}         0.119  \n",
       "25           {'alpha': 0.05}         0.146  \n",
       "26           {'alpha': 0.05}         0.176  \n",
       "27           {'alpha': 0.05}         0.216  \n",
       "28           {'alpha': 0.05}         False  \n",
       "29           {'alpha': 0.05}      0.000068  "
      ]
     },
     "execution_count": 8,
     "metadata": {},
     "output_type": "execute_result"
    }
   ],
   "source": [
    "# summary time series statistics\n",
    "s.check_stats()"
   ]
  },
  {
   "cell_type": "code",
   "execution_count": 9,
   "metadata": {},
   "outputs": [
    {
     "data": {
      "text/html": [
       "<div>\n",
       "<style scoped>\n",
       "    .dataframe tbody tr th:only-of-type {\n",
       "        vertical-align: middle;\n",
       "    }\n",
       "\n",
       "    .dataframe tbody tr th {\n",
       "        vertical-align: top;\n",
       "    }\n",
       "\n",
       "    .dataframe thead th {\n",
       "        text-align: right;\n",
       "    }\n",
       "</style>\n",
       "<table border=\"1\" class=\"dataframe\">\n",
       "  <thead>\n",
       "    <tr style=\"text-align: right;\">\n",
       "      <th></th>\n",
       "      <th>Name</th>\n",
       "      <th>Reference</th>\n",
       "      <th>Turbo</th>\n",
       "    </tr>\n",
       "    <tr>\n",
       "      <th>ID</th>\n",
       "      <th></th>\n",
       "      <th></th>\n",
       "      <th></th>\n",
       "    </tr>\n",
       "  </thead>\n",
       "  <tbody>\n",
       "    <tr>\n",
       "      <th>naive</th>\n",
       "      <td>Naive Forecaster</td>\n",
       "      <td>sktime.forecasting.naive.NaiveForecaster</td>\n",
       "      <td>True</td>\n",
       "    </tr>\n",
       "    <tr>\n",
       "      <th>grand_means</th>\n",
       "      <td>Grand Means Forecaster</td>\n",
       "      <td>sktime.forecasting.naive.NaiveForecaster</td>\n",
       "      <td>True</td>\n",
       "    </tr>\n",
       "    <tr>\n",
       "      <th>snaive</th>\n",
       "      <td>Seasonal Naive Forecaster</td>\n",
       "      <td>sktime.forecasting.naive.NaiveForecaster</td>\n",
       "      <td>True</td>\n",
       "    </tr>\n",
       "    <tr>\n",
       "      <th>arima</th>\n",
       "      <td>ARIMA</td>\n",
       "      <td>sktime.forecasting.arima.ARIMA</td>\n",
       "      <td>True</td>\n",
       "    </tr>\n",
       "    <tr>\n",
       "      <th>auto_arima</th>\n",
       "      <td>Auto ARIMA</td>\n",
       "      <td>sktime.forecasting.arima.AutoARIMA</td>\n",
       "      <td>True</td>\n",
       "    </tr>\n",
       "    <tr>\n",
       "      <th>stlf</th>\n",
       "      <td>STLF</td>\n",
       "      <td>sktime.forecasting.trend.STLForecaster</td>\n",
       "      <td>True</td>\n",
       "    </tr>\n",
       "    <tr>\n",
       "      <th>croston</th>\n",
       "      <td>Croston</td>\n",
       "      <td>sktime.forecasting.croston.Croston</td>\n",
       "      <td>True</td>\n",
       "    </tr>\n",
       "    <tr>\n",
       "      <th>lr_cds_dt</th>\n",
       "      <td>Linear w/ Cond. Deseasonalize &amp; Detrending</td>\n",
       "      <td>pycaret.containers.models.time_series.BaseCdsD...</td>\n",
       "      <td>True</td>\n",
       "    </tr>\n",
       "    <tr>\n",
       "      <th>en_cds_dt</th>\n",
       "      <td>Elastic Net w/ Cond. Deseasonalize &amp; Detrending</td>\n",
       "      <td>pycaret.containers.models.time_series.BaseCdsD...</td>\n",
       "      <td>True</td>\n",
       "    </tr>\n",
       "    <tr>\n",
       "      <th>ridge_cds_dt</th>\n",
       "      <td>Ridge w/ Cond. Deseasonalize &amp; Detrending</td>\n",
       "      <td>pycaret.containers.models.time_series.BaseCdsD...</td>\n",
       "      <td>True</td>\n",
       "    </tr>\n",
       "    <tr>\n",
       "      <th>lasso_cds_dt</th>\n",
       "      <td>Lasso w/ Cond. Deseasonalize &amp; Detrending</td>\n",
       "      <td>pycaret.containers.models.time_series.BaseCdsD...</td>\n",
       "      <td>True</td>\n",
       "    </tr>\n",
       "    <tr>\n",
       "      <th>llar_cds_dt</th>\n",
       "      <td>Lasso Least Angular Regressor w/ Cond. Deseaso...</td>\n",
       "      <td>pycaret.containers.models.time_series.BaseCdsD...</td>\n",
       "      <td>True</td>\n",
       "    </tr>\n",
       "    <tr>\n",
       "      <th>br_cds_dt</th>\n",
       "      <td>Bayesian Ridge w/ Cond. Deseasonalize &amp; Detren...</td>\n",
       "      <td>pycaret.containers.models.time_series.BaseCdsD...</td>\n",
       "      <td>True</td>\n",
       "    </tr>\n",
       "    <tr>\n",
       "      <th>huber_cds_dt</th>\n",
       "      <td>Huber w/ Cond. Deseasonalize &amp; Detrending</td>\n",
       "      <td>pycaret.containers.models.time_series.BaseCdsD...</td>\n",
       "      <td>True</td>\n",
       "    </tr>\n",
       "    <tr>\n",
       "      <th>omp_cds_dt</th>\n",
       "      <td>Orthogonal Matching Pursuit w/ Cond. Deseasona...</td>\n",
       "      <td>pycaret.containers.models.time_series.BaseCdsD...</td>\n",
       "      <td>True</td>\n",
       "    </tr>\n",
       "    <tr>\n",
       "      <th>knn_cds_dt</th>\n",
       "      <td>K Neighbors w/ Cond. Deseasonalize &amp; Detrending</td>\n",
       "      <td>pycaret.containers.models.time_series.BaseCdsD...</td>\n",
       "      <td>True</td>\n",
       "    </tr>\n",
       "    <tr>\n",
       "      <th>dt_cds_dt</th>\n",
       "      <td>Decision Tree w/ Cond. Deseasonalize &amp; Detrending</td>\n",
       "      <td>pycaret.containers.models.time_series.BaseCdsD...</td>\n",
       "      <td>True</td>\n",
       "    </tr>\n",
       "    <tr>\n",
       "      <th>rf_cds_dt</th>\n",
       "      <td>Random Forest w/ Cond. Deseasonalize &amp; Detrending</td>\n",
       "      <td>pycaret.containers.models.time_series.BaseCdsD...</td>\n",
       "      <td>True</td>\n",
       "    </tr>\n",
       "    <tr>\n",
       "      <th>et_cds_dt</th>\n",
       "      <td>Extra Trees w/ Cond. Deseasonalize &amp; Detrending</td>\n",
       "      <td>pycaret.containers.models.time_series.BaseCdsD...</td>\n",
       "      <td>True</td>\n",
       "    </tr>\n",
       "    <tr>\n",
       "      <th>gbr_cds_dt</th>\n",
       "      <td>Gradient Boosting w/ Cond. Deseasonalize &amp; Det...</td>\n",
       "      <td>pycaret.containers.models.time_series.BaseCdsD...</td>\n",
       "      <td>True</td>\n",
       "    </tr>\n",
       "    <tr>\n",
       "      <th>ada_cds_dt</th>\n",
       "      <td>AdaBoost w/ Cond. Deseasonalize &amp; Detrending</td>\n",
       "      <td>pycaret.containers.models.time_series.BaseCdsD...</td>\n",
       "      <td>True</td>\n",
       "    </tr>\n",
       "    <tr>\n",
       "      <th>xgboost_cds_dt</th>\n",
       "      <td>Extreme Gradient Boosting w/ Cond. Deseasonali...</td>\n",
       "      <td>pycaret.containers.models.time_series.BaseCdsD...</td>\n",
       "      <td>True</td>\n",
       "    </tr>\n",
       "    <tr>\n",
       "      <th>lightgbm_cds_dt</th>\n",
       "      <td>Light Gradient Boosting w/ Cond. Deseasonalize...</td>\n",
       "      <td>pycaret.containers.models.time_series.BaseCdsD...</td>\n",
       "      <td>True</td>\n",
       "    </tr>\n",
       "    <tr>\n",
       "      <th>catboost_cds_dt</th>\n",
       "      <td>CatBoost Regressor w/ Cond. Deseasonalize &amp; De...</td>\n",
       "      <td>pycaret.containers.models.time_series.BaseCdsD...</td>\n",
       "      <td>True</td>\n",
       "    </tr>\n",
       "  </tbody>\n",
       "</table>\n",
       "</div>"
      ],
      "text/plain": [
       "                                                              Name  \\\n",
       "ID                                                                   \n",
       "naive                                             Naive Forecaster   \n",
       "grand_means                                 Grand Means Forecaster   \n",
       "snaive                                   Seasonal Naive Forecaster   \n",
       "arima                                                        ARIMA   \n",
       "auto_arima                                              Auto ARIMA   \n",
       "stlf                                                          STLF   \n",
       "croston                                                    Croston   \n",
       "lr_cds_dt               Linear w/ Cond. Deseasonalize & Detrending   \n",
       "en_cds_dt          Elastic Net w/ Cond. Deseasonalize & Detrending   \n",
       "ridge_cds_dt             Ridge w/ Cond. Deseasonalize & Detrending   \n",
       "lasso_cds_dt             Lasso w/ Cond. Deseasonalize & Detrending   \n",
       "llar_cds_dt      Lasso Least Angular Regressor w/ Cond. Deseaso...   \n",
       "br_cds_dt        Bayesian Ridge w/ Cond. Deseasonalize & Detren...   \n",
       "huber_cds_dt             Huber w/ Cond. Deseasonalize & Detrending   \n",
       "omp_cds_dt       Orthogonal Matching Pursuit w/ Cond. Deseasona...   \n",
       "knn_cds_dt         K Neighbors w/ Cond. Deseasonalize & Detrending   \n",
       "dt_cds_dt        Decision Tree w/ Cond. Deseasonalize & Detrending   \n",
       "rf_cds_dt        Random Forest w/ Cond. Deseasonalize & Detrending   \n",
       "et_cds_dt          Extra Trees w/ Cond. Deseasonalize & Detrending   \n",
       "gbr_cds_dt       Gradient Boosting w/ Cond. Deseasonalize & Det...   \n",
       "ada_cds_dt            AdaBoost w/ Cond. Deseasonalize & Detrending   \n",
       "xgboost_cds_dt   Extreme Gradient Boosting w/ Cond. Deseasonali...   \n",
       "lightgbm_cds_dt  Light Gradient Boosting w/ Cond. Deseasonalize...   \n",
       "catboost_cds_dt  CatBoost Regressor w/ Cond. Deseasonalize & De...   \n",
       "\n",
       "                                                         Reference  Turbo  \n",
       "ID                                                                         \n",
       "naive                     sktime.forecasting.naive.NaiveForecaster   True  \n",
       "grand_means               sktime.forecasting.naive.NaiveForecaster   True  \n",
       "snaive                    sktime.forecasting.naive.NaiveForecaster   True  \n",
       "arima                               sktime.forecasting.arima.ARIMA   True  \n",
       "auto_arima                      sktime.forecasting.arima.AutoARIMA   True  \n",
       "stlf                        sktime.forecasting.trend.STLForecaster   True  \n",
       "croston                         sktime.forecasting.croston.Croston   True  \n",
       "lr_cds_dt        pycaret.containers.models.time_series.BaseCdsD...   True  \n",
       "en_cds_dt        pycaret.containers.models.time_series.BaseCdsD...   True  \n",
       "ridge_cds_dt     pycaret.containers.models.time_series.BaseCdsD...   True  \n",
       "lasso_cds_dt     pycaret.containers.models.time_series.BaseCdsD...   True  \n",
       "llar_cds_dt      pycaret.containers.models.time_series.BaseCdsD...   True  \n",
       "br_cds_dt        pycaret.containers.models.time_series.BaseCdsD...   True  \n",
       "huber_cds_dt     pycaret.containers.models.time_series.BaseCdsD...   True  \n",
       "omp_cds_dt       pycaret.containers.models.time_series.BaseCdsD...   True  \n",
       "knn_cds_dt       pycaret.containers.models.time_series.BaseCdsD...   True  \n",
       "dt_cds_dt        pycaret.containers.models.time_series.BaseCdsD...   True  \n",
       "rf_cds_dt        pycaret.containers.models.time_series.BaseCdsD...   True  \n",
       "et_cds_dt        pycaret.containers.models.time_series.BaseCdsD...   True  \n",
       "gbr_cds_dt       pycaret.containers.models.time_series.BaseCdsD...   True  \n",
       "ada_cds_dt       pycaret.containers.models.time_series.BaseCdsD...   True  \n",
       "xgboost_cds_dt   pycaret.containers.models.time_series.BaseCdsD...   True  \n",
       "lightgbm_cds_dt  pycaret.containers.models.time_series.BaseCdsD...   True  \n",
       "catboost_cds_dt  pycaret.containers.models.time_series.BaseCdsD...   True  "
      ]
     },
     "execution_count": 9,
     "metadata": {},
     "output_type": "execute_result"
    }
   ],
   "source": [
    "# check available models in pycaret\n",
    "models()"
   ]
  },
  {
   "cell_type": "code",
   "execution_count": 10,
   "metadata": {},
   "outputs": [
    {
     "data": {
      "text/html": [],
      "text/plain": [
       "<IPython.core.display.HTML object>"
      ]
     },
     "metadata": {},
     "output_type": "display_data"
    },
    {
     "data": {
      "text/html": [
       "<style type=\"text/css\">\n",
       "#T_3ec15 th {\n",
       "  text-align: left;\n",
       "}\n",
       "#T_3ec15_row0_col0, #T_3ec15_row1_col0, #T_3ec15_row1_col1, #T_3ec15_row1_col2, #T_3ec15_row1_col3, #T_3ec15_row1_col4, #T_3ec15_row1_col5, #T_3ec15_row1_col6, #T_3ec15_row1_col7, #T_3ec15_row2_col0, #T_3ec15_row2_col1, #T_3ec15_row2_col2, #T_3ec15_row2_col3, #T_3ec15_row2_col4, #T_3ec15_row2_col5, #T_3ec15_row2_col6, #T_3ec15_row2_col7, #T_3ec15_row3_col0, #T_3ec15_row3_col1, #T_3ec15_row3_col2, #T_3ec15_row3_col3, #T_3ec15_row3_col4, #T_3ec15_row3_col5, #T_3ec15_row3_col6, #T_3ec15_row3_col7, #T_3ec15_row4_col0, #T_3ec15_row4_col1, #T_3ec15_row4_col2, #T_3ec15_row4_col3, #T_3ec15_row4_col4, #T_3ec15_row4_col5, #T_3ec15_row4_col6, #T_3ec15_row4_col7 {\n",
       "  text-align: left;\n",
       "}\n",
       "#T_3ec15_row0_col1, #T_3ec15_row0_col2, #T_3ec15_row0_col3, #T_3ec15_row0_col4, #T_3ec15_row0_col5, #T_3ec15_row0_col6, #T_3ec15_row0_col7 {\n",
       "  text-align: left;\n",
       "  background-color: yellow;\n",
       "}\n",
       "#T_3ec15_row0_col8, #T_3ec15_row1_col8, #T_3ec15_row3_col8, #T_3ec15_row4_col8 {\n",
       "  text-align: left;\n",
       "  background-color: lightgrey;\n",
       "}\n",
       "#T_3ec15_row2_col8 {\n",
       "  text-align: left;\n",
       "  background-color: yellow;\n",
       "  background-color: lightgrey;\n",
       "}\n",
       "</style>\n",
       "<table id=\"T_3ec15\">\n",
       "  <thead>\n",
       "    <tr>\n",
       "      <th class=\"blank level0\" >&nbsp;</th>\n",
       "      <th id=\"T_3ec15_level0_col0\" class=\"col_heading level0 col0\" >Model</th>\n",
       "      <th id=\"T_3ec15_level0_col1\" class=\"col_heading level0 col1\" >MASE</th>\n",
       "      <th id=\"T_3ec15_level0_col2\" class=\"col_heading level0 col2\" >RMSSE</th>\n",
       "      <th id=\"T_3ec15_level0_col3\" class=\"col_heading level0 col3\" >MAE</th>\n",
       "      <th id=\"T_3ec15_level0_col4\" class=\"col_heading level0 col4\" >RMSE</th>\n",
       "      <th id=\"T_3ec15_level0_col5\" class=\"col_heading level0 col5\" >MAPE</th>\n",
       "      <th id=\"T_3ec15_level0_col6\" class=\"col_heading level0 col6\" >SMAPE</th>\n",
       "      <th id=\"T_3ec15_level0_col7\" class=\"col_heading level0 col7\" >R2</th>\n",
       "      <th id=\"T_3ec15_level0_col8\" class=\"col_heading level0 col8\" >TT (Sec)</th>\n",
       "    </tr>\n",
       "  </thead>\n",
       "  <tbody>\n",
       "    <tr>\n",
       "      <th id=\"T_3ec15_level0_row0\" class=\"row_heading level0 row0\" >stlf</th>\n",
       "      <td id=\"T_3ec15_row0_col0\" class=\"data row0 col0\" >STLF</td>\n",
       "      <td id=\"T_3ec15_row0_col1\" class=\"data row0 col1\" >0.7133</td>\n",
       "      <td id=\"T_3ec15_row0_col2\" class=\"data row0 col2\" >0.7059</td>\n",
       "      <td id=\"T_3ec15_row0_col3\" class=\"data row0 col3\" >21.0007</td>\n",
       "      <td id=\"T_3ec15_row0_col4\" class=\"data row0 col4\" >23.3522</td>\n",
       "      <td id=\"T_3ec15_row0_col5\" class=\"data row0 col5\" >0.0530</td>\n",
       "      <td id=\"T_3ec15_row0_col6\" class=\"data row0 col6\" >0.0531</td>\n",
       "      <td id=\"T_3ec15_row0_col7\" class=\"data row0 col7\" >0.8527</td>\n",
       "      <td id=\"T_3ec15_row0_col8\" class=\"data row0 col8\" >0.0567</td>\n",
       "    </tr>\n",
       "    <tr>\n",
       "      <th id=\"T_3ec15_level0_row1\" class=\"row_heading level0 row1\" >snaive</th>\n",
       "      <td id=\"T_3ec15_row1_col0\" class=\"data row1 col0\" >Seasonal Naive Forecaster</td>\n",
       "      <td id=\"T_3ec15_row1_col1\" class=\"data row1 col1\" >1.1479</td>\n",
       "      <td id=\"T_3ec15_row1_col2\" class=\"data row1 col2\" >1.0945</td>\n",
       "      <td id=\"T_3ec15_row1_col3\" class=\"data row1 col3\" >33.3611</td>\n",
       "      <td id=\"T_3ec15_row1_col4\" class=\"data row1 col4\" >35.9139</td>\n",
       "      <td id=\"T_3ec15_row1_col5\" class=\"data row1 col5\" >0.0832</td>\n",
       "      <td id=\"T_3ec15_row1_col6\" class=\"data row1 col6\" >0.0879</td>\n",
       "      <td id=\"T_3ec15_row1_col7\" class=\"data row1 col7\" >0.6072</td>\n",
       "      <td id=\"T_3ec15_row1_col8\" class=\"data row1 col8\" >1.7500</td>\n",
       "    </tr>\n",
       "    <tr>\n",
       "      <th id=\"T_3ec15_level0_row2\" class=\"row_heading level0 row2\" >croston</th>\n",
       "      <td id=\"T_3ec15_row2_col0\" class=\"data row2 col0\" >Croston</td>\n",
       "      <td id=\"T_3ec15_row2_col1\" class=\"data row2 col1\" >1.9311</td>\n",
       "      <td id=\"T_3ec15_row2_col2\" class=\"data row2 col2\" >2.3517</td>\n",
       "      <td id=\"T_3ec15_row2_col3\" class=\"data row2 col3\" >56.6180</td>\n",
       "      <td id=\"T_3ec15_row2_col4\" class=\"data row2 col4\" >77.5856</td>\n",
       "      <td id=\"T_3ec15_row2_col5\" class=\"data row2 col5\" >0.1295</td>\n",
       "      <td id=\"T_3ec15_row2_col6\" class=\"data row2 col6\" >0.1439</td>\n",
       "      <td id=\"T_3ec15_row2_col7\" class=\"data row2 col7\" >-0.6281</td>\n",
       "      <td id=\"T_3ec15_row2_col8\" class=\"data row2 col8\" >0.0267</td>\n",
       "    </tr>\n",
       "    <tr>\n",
       "      <th id=\"T_3ec15_level0_row3\" class=\"row_heading level0 row3\" >naive</th>\n",
       "      <td id=\"T_3ec15_row3_col0\" class=\"data row3 col0\" >Naive Forecaster</td>\n",
       "      <td id=\"T_3ec15_row3_col1\" class=\"data row3 col1\" >2.3599</td>\n",
       "      <td id=\"T_3ec15_row3_col2\" class=\"data row3 col2\" >2.7612</td>\n",
       "      <td id=\"T_3ec15_row3_col3\" class=\"data row3 col3\" >69.0278</td>\n",
       "      <td id=\"T_3ec15_row3_col4\" class=\"data row3 col4\" >91.0322</td>\n",
       "      <td id=\"T_3ec15_row3_col5\" class=\"data row3 col5\" >0.1569</td>\n",
       "      <td id=\"T_3ec15_row3_col6\" class=\"data row3 col6\" >0.1792</td>\n",
       "      <td id=\"T_3ec15_row3_col7\" class=\"data row3 col7\" >-1.2216</td>\n",
       "      <td id=\"T_3ec15_row3_col8\" class=\"data row3 col8\" >2.3367</td>\n",
       "    </tr>\n",
       "    <tr>\n",
       "      <th id=\"T_3ec15_level0_row4\" class=\"row_heading level0 row4\" >grand_means</th>\n",
       "      <td id=\"T_3ec15_row4_col0\" class=\"data row4 col0\" >Grand Means Forecaster</td>\n",
       "      <td id=\"T_3ec15_row4_col1\" class=\"data row4 col1\" >5.5306</td>\n",
       "      <td id=\"T_3ec15_row4_col2\" class=\"data row4 col2\" >5.2596</td>\n",
       "      <td id=\"T_3ec15_row4_col3\" class=\"data row4 col3\" >162.4117</td>\n",
       "      <td id=\"T_3ec15_row4_col4\" class=\"data row4 col4\" >173.6492</td>\n",
       "      <td id=\"T_3ec15_row4_col5\" class=\"data row4 col5\" >0.4000</td>\n",
       "      <td id=\"T_3ec15_row4_col6\" class=\"data row4 col6\" >0.5075</td>\n",
       "      <td id=\"T_3ec15_row4_col7\" class=\"data row4 col7\" >-7.0462</td>\n",
       "      <td id=\"T_3ec15_row4_col8\" class=\"data row4 col8\" >1.8733</td>\n",
       "    </tr>\n",
       "  </tbody>\n",
       "</table>\n"
      ],
      "text/plain": [
       "<pandas.io.formats.style.Styler at 0x2aad6244550>"
      ]
     },
     "metadata": {},
     "output_type": "display_data"
    },
    {
     "data": {
      "text/html": [],
      "text/plain": [
       "<IPython.core.display.HTML object>"
      ]
     },
     "metadata": {},
     "output_type": "display_data"
    }
   ],
   "source": [
    "# compare baseline models \n",
    "# and sort by Mean Absolute Percentage Error (MAPE)\n",
    "# select top 3 methods\n",
    "best_models = s.compare_models(sort = 'MAPE', n_select = 3)"
   ]
  },
  {
   "cell_type": "code",
   "execution_count": 11,
   "metadata": {},
   "outputs": [
    {
     "data": {
      "text/plain": [
       "[STLForecaster(sp=12), NaiveForecaster(sp=12), Croston()]"
      ]
     },
     "execution_count": 11,
     "metadata": {},
     "output_type": "execute_result"
    }
   ],
   "source": [
    "best_models"
   ]
  },
  {
   "cell_type": "code",
   "execution_count": 12,
   "metadata": {},
   "outputs": [
    {
     "data": {
      "text/html": [
       "<style>#sk-a4a8abf7-15a3-4b34-a4e2-4a8b6421bcfd {color: black;background-color: white;}#sk-a4a8abf7-15a3-4b34-a4e2-4a8b6421bcfd pre{padding: 0;}#sk-a4a8abf7-15a3-4b34-a4e2-4a8b6421bcfd div.sk-toggleable {background-color: white;}#sk-a4a8abf7-15a3-4b34-a4e2-4a8b6421bcfd label.sk-toggleable__label {cursor: pointer;display: block;width: 100%;margin-bottom: 0;padding: 0.3em;box-sizing: border-box;text-align: center;}#sk-a4a8abf7-15a3-4b34-a4e2-4a8b6421bcfd label.sk-toggleable__label-arrow:before {content: \"▸\";float: left;margin-right: 0.25em;color: #696969;}#sk-a4a8abf7-15a3-4b34-a4e2-4a8b6421bcfd label.sk-toggleable__label-arrow:hover:before {color: black;}#sk-a4a8abf7-15a3-4b34-a4e2-4a8b6421bcfd div.sk-estimator:hover label.sk-toggleable__label-arrow:before {color: black;}#sk-a4a8abf7-15a3-4b34-a4e2-4a8b6421bcfd div.sk-toggleable__content {max-height: 0;max-width: 0;overflow: hidden;text-align: left;background-color: #f0f8ff;}#sk-a4a8abf7-15a3-4b34-a4e2-4a8b6421bcfd div.sk-toggleable__content pre {margin: 0.2em;color: black;border-radius: 0.25em;background-color: #f0f8ff;}#sk-a4a8abf7-15a3-4b34-a4e2-4a8b6421bcfd input.sk-toggleable__control:checked~div.sk-toggleable__content {max-height: 200px;max-width: 100%;overflow: auto;}#sk-a4a8abf7-15a3-4b34-a4e2-4a8b6421bcfd input.sk-toggleable__control:checked~label.sk-toggleable__label-arrow:before {content: \"▾\";}#sk-a4a8abf7-15a3-4b34-a4e2-4a8b6421bcfd div.sk-estimator input.sk-toggleable__control:checked~label.sk-toggleable__label {background-color: #d4ebff;}#sk-a4a8abf7-15a3-4b34-a4e2-4a8b6421bcfd div.sk-label input.sk-toggleable__control:checked~label.sk-toggleable__label {background-color: #d4ebff;}#sk-a4a8abf7-15a3-4b34-a4e2-4a8b6421bcfd input.sk-hidden--visually {border: 0;clip: rect(1px 1px 1px 1px);clip: rect(1px, 1px, 1px, 1px);height: 1px;margin: -1px;overflow: hidden;padding: 0;position: absolute;width: 1px;}#sk-a4a8abf7-15a3-4b34-a4e2-4a8b6421bcfd div.sk-estimator {font-family: monospace;background-color: #f0f8ff;border: 1px dotted black;border-radius: 0.25em;box-sizing: border-box;margin-bottom: 0.5em;}#sk-a4a8abf7-15a3-4b34-a4e2-4a8b6421bcfd div.sk-estimator:hover {background-color: #d4ebff;}#sk-a4a8abf7-15a3-4b34-a4e2-4a8b6421bcfd div.sk-parallel-item::after {content: \"\";width: 100%;border-bottom: 1px solid gray;flex-grow: 1;}#sk-a4a8abf7-15a3-4b34-a4e2-4a8b6421bcfd div.sk-label:hover label.sk-toggleable__label {background-color: #d4ebff;}#sk-a4a8abf7-15a3-4b34-a4e2-4a8b6421bcfd div.sk-serial::before {content: \"\";position: absolute;border-left: 1px solid gray;box-sizing: border-box;top: 2em;bottom: 0;left: 50%;}#sk-a4a8abf7-15a3-4b34-a4e2-4a8b6421bcfd div.sk-serial {display: flex;flex-direction: column;align-items: center;background-color: white;padding-right: 0.2em;padding-left: 0.2em;}#sk-a4a8abf7-15a3-4b34-a4e2-4a8b6421bcfd div.sk-item {z-index: 1;}#sk-a4a8abf7-15a3-4b34-a4e2-4a8b6421bcfd div.sk-parallel {display: flex;align-items: stretch;justify-content: center;background-color: white;}#sk-a4a8abf7-15a3-4b34-a4e2-4a8b6421bcfd div.sk-parallel::before {content: \"\";position: absolute;border-left: 1px solid gray;box-sizing: border-box;top: 2em;bottom: 0;left: 50%;}#sk-a4a8abf7-15a3-4b34-a4e2-4a8b6421bcfd div.sk-parallel-item {display: flex;flex-direction: column;position: relative;background-color: white;}#sk-a4a8abf7-15a3-4b34-a4e2-4a8b6421bcfd div.sk-parallel-item:first-child::after {align-self: flex-end;width: 50%;}#sk-a4a8abf7-15a3-4b34-a4e2-4a8b6421bcfd div.sk-parallel-item:last-child::after {align-self: flex-start;width: 50%;}#sk-a4a8abf7-15a3-4b34-a4e2-4a8b6421bcfd div.sk-parallel-item:only-child::after {width: 0;}#sk-a4a8abf7-15a3-4b34-a4e2-4a8b6421bcfd div.sk-dashed-wrapped {border: 1px dashed gray;margin: 0 0.4em 0.5em 0.4em;box-sizing: border-box;padding-bottom: 0.4em;background-color: white;position: relative;}#sk-a4a8abf7-15a3-4b34-a4e2-4a8b6421bcfd div.sk-label label {font-family: monospace;font-weight: bold;background-color: white;display: inline-block;line-height: 1.2em;}#sk-a4a8abf7-15a3-4b34-a4e2-4a8b6421bcfd div.sk-label-container {position: relative;z-index: 2;text-align: center;}#sk-a4a8abf7-15a3-4b34-a4e2-4a8b6421bcfd div.sk-container {/* jupyter's `normalize.less` sets `[hidden] { display: none; }` but bootstrap.min.css set `[hidden] { display: none !important; }` so we also need the `!important` here to be able to override the default hidden behavior on the sphinx rendered scikit-learn.org. See: https://github.com/scikit-learn/scikit-learn/issues/21755 */display: inline-block !important;position: relative;}#sk-a4a8abf7-15a3-4b34-a4e2-4a8b6421bcfd div.sk-text-repr-fallback {display: none;}</style><div id='sk-a4a8abf7-15a3-4b34-a4e2-4a8b6421bcfd' class=\"sk-top-container\"><div class=\"sk-text-repr-fallback\"><pre>STLForecaster(sp=12)</pre><b>Please rerun this cell to show the HTML repr or trust the notebook.</b></div><div class=\"sk-container\" hidden><div class='sk-item'><div class=\"sk-estimator sk-toggleable\"><input class=\"sk-toggleable__control sk-hidden--visually\" id=UUID('f1006dc4-ff9d-455a-8316-f6969492c188') type=\"checkbox\" checked><label for=UUID('f1006dc4-ff9d-455a-8316-f6969492c188') class='sk-toggleable__label sk-toggleable__label-arrow'>STLForecaster</label><div class=\"sk-toggleable__content\"><pre>STLForecaster(sp=12)</pre></div></div></div></div></div>"
      ],
      "text/plain": [
       "STLForecaster(sp=12)"
      ]
     },
     "execution_count": 12,
     "metadata": {},
     "output_type": "execute_result"
    }
   ],
   "source": [
    "#print best model with input parameters\n",
    "top_model = best_models[0]\n",
    "top_model"
   ]
  },
  {
   "cell_type": "code",
   "execution_count": 13,
   "metadata": {},
   "outputs": [
    {
     "data": {
      "text/html": [
       "<style type=\"text/css\">\n",
       "</style>\n",
       "<table id=\"T_28e30\">\n",
       "  <thead>\n",
       "    <tr>\n",
       "      <th class=\"blank level0\" >&nbsp;</th>\n",
       "      <th id=\"T_28e30_level0_col0\" class=\"col_heading level0 col0\" >Model</th>\n",
       "      <th id=\"T_28e30_level0_col1\" class=\"col_heading level0 col1\" >MASE</th>\n",
       "      <th id=\"T_28e30_level0_col2\" class=\"col_heading level0 col2\" >RMSSE</th>\n",
       "      <th id=\"T_28e30_level0_col3\" class=\"col_heading level0 col3\" >MAE</th>\n",
       "      <th id=\"T_28e30_level0_col4\" class=\"col_heading level0 col4\" >RMSE</th>\n",
       "      <th id=\"T_28e30_level0_col5\" class=\"col_heading level0 col5\" >MAPE</th>\n",
       "      <th id=\"T_28e30_level0_col6\" class=\"col_heading level0 col6\" >SMAPE</th>\n",
       "      <th id=\"T_28e30_level0_col7\" class=\"col_heading level0 col7\" >R2</th>\n",
       "    </tr>\n",
       "  </thead>\n",
       "  <tbody>\n",
       "    <tr>\n",
       "      <th id=\"T_28e30_level0_row0\" class=\"row_heading level0 row0\" >0</th>\n",
       "      <td id=\"T_28e30_row0_col0\" class=\"data row0 col0\" >STLF</td>\n",
       "      <td id=\"T_28e30_row0_col1\" class=\"data row0 col1\" >0.4389</td>\n",
       "      <td id=\"T_28e30_row0_col2\" class=\"data row0 col2\" >0.4979</td>\n",
       "      <td id=\"T_28e30_row0_col3\" class=\"data row0 col3\" >13.3636</td>\n",
       "      <td id=\"T_28e30_row0_col4\" class=\"data row0 col4\" >17.2027</td>\n",
       "      <td id=\"T_28e30_row0_col5\" class=\"data row0 col5\" >0.0276</td>\n",
       "      <td id=\"T_28e30_row0_col6\" class=\"data row0 col6\" >0.0277</td>\n",
       "      <td id=\"T_28e30_row0_col7\" class=\"data row0 col7\" >0.9466</td>\n",
       "    </tr>\n",
       "  </tbody>\n",
       "</table>\n"
      ],
      "text/plain": [
       "<pandas.io.formats.style.Styler at 0x2aad6513c40>"
      ]
     },
     "metadata": {},
     "output_type": "display_data"
    }
   ],
   "source": [
    "# predict on test set and get model errors\n",
    "y_test = predict_model(top_model)"
   ]
  },
  {
   "cell_type": "code",
   "execution_count": 14,
   "metadata": {},
   "outputs": [
    {
     "data": {
      "text/html": [
       "<div>\n",
       "<style scoped>\n",
       "    .dataframe tbody tr th:only-of-type {\n",
       "        vertical-align: middle;\n",
       "    }\n",
       "\n",
       "    .dataframe tbody tr th {\n",
       "        vertical-align: top;\n",
       "    }\n",
       "\n",
       "    .dataframe thead th {\n",
       "        text-align: right;\n",
       "    }\n",
       "</style>\n",
       "<table border=\"1\" class=\"dataframe\">\n",
       "  <thead>\n",
       "    <tr style=\"text-align: right;\">\n",
       "      <th></th>\n",
       "      <th>y_pred</th>\n",
       "    </tr>\n",
       "  </thead>\n",
       "  <tbody>\n",
       "    <tr>\n",
       "      <th>132</th>\n",
       "      <td>412.7887</td>\n",
       "    </tr>\n",
       "    <tr>\n",
       "      <th>133</th>\n",
       "      <td>392.1058</td>\n",
       "    </tr>\n",
       "    <tr>\n",
       "      <th>134</th>\n",
       "      <td>450.6861</td>\n",
       "    </tr>\n",
       "    <tr>\n",
       "      <th>135</th>\n",
       "      <td>437.3620</td>\n",
       "    </tr>\n",
       "    <tr>\n",
       "      <th>136</th>\n",
       "      <td>458.0834</td>\n",
       "    </tr>\n",
       "    <tr>\n",
       "      <th>137</th>\n",
       "      <td>521.1075</td>\n",
       "    </tr>\n",
       "    <tr>\n",
       "      <th>138</th>\n",
       "      <td>588.3774</td>\n",
       "    </tr>\n",
       "    <tr>\n",
       "      <th>139</th>\n",
       "      <td>602.2847</td>\n",
       "    </tr>\n",
       "    <tr>\n",
       "      <th>140</th>\n",
       "      <td>498.8244</td>\n",
       "    </tr>\n",
       "    <tr>\n",
       "      <th>141</th>\n",
       "      <td>442.8977</td>\n",
       "    </tr>\n",
       "    <tr>\n",
       "      <th>142</th>\n",
       "      <td>393.7029</td>\n",
       "    </tr>\n",
       "    <tr>\n",
       "      <th>143</th>\n",
       "      <td>428.4061</td>\n",
       "    </tr>\n",
       "  </tbody>\n",
       "</table>\n",
       "</div>"
      ],
      "text/plain": [
       "       y_pred\n",
       "132  412.7887\n",
       "133  392.1058\n",
       "134  450.6861\n",
       "135  437.3620\n",
       "136  458.0834\n",
       "137  521.1075\n",
       "138  588.3774\n",
       "139  602.2847\n",
       "140  498.8244\n",
       "141  442.8977\n",
       "142  393.7029\n",
       "143  428.4061"
      ]
     },
     "execution_count": 14,
     "metadata": {},
     "output_type": "execute_result"
    }
   ],
   "source": [
    "y_test"
   ]
  },
  {
   "cell_type": "code",
   "execution_count": 15,
   "metadata": {},
   "outputs": [
    {
     "data": {
      "text/html": [
       "<div>\n",
       "<style scoped>\n",
       "    .dataframe tbody tr th:only-of-type {\n",
       "        vertical-align: middle;\n",
       "    }\n",
       "\n",
       "    .dataframe tbody tr th {\n",
       "        vertical-align: top;\n",
       "    }\n",
       "\n",
       "    .dataframe thead th {\n",
       "        text-align: right;\n",
       "    }\n",
       "</style>\n",
       "<table border=\"1\" class=\"dataframe\">\n",
       "  <thead>\n",
       "    <tr style=\"text-align: right;\">\n",
       "      <th></th>\n",
       "      <th>Passengers</th>\n",
       "      <th>Date</th>\n",
       "    </tr>\n",
       "  </thead>\n",
       "  <tbody>\n",
       "    <tr>\n",
       "      <th>132</th>\n",
       "      <td>417.0</td>\n",
       "      <td>1960-01-01</td>\n",
       "    </tr>\n",
       "    <tr>\n",
       "      <th>133</th>\n",
       "      <td>391.0</td>\n",
       "      <td>1960-02-01</td>\n",
       "    </tr>\n",
       "    <tr>\n",
       "      <th>134</th>\n",
       "      <td>419.0</td>\n",
       "      <td>1960-03-01</td>\n",
       "    </tr>\n",
       "    <tr>\n",
       "      <th>135</th>\n",
       "      <td>461.0</td>\n",
       "      <td>1960-04-01</td>\n",
       "    </tr>\n",
       "    <tr>\n",
       "      <th>136</th>\n",
       "      <td>472.0</td>\n",
       "      <td>1960-05-01</td>\n",
       "    </tr>\n",
       "    <tr>\n",
       "      <th>137</th>\n",
       "      <td>535.0</td>\n",
       "      <td>1960-06-01</td>\n",
       "    </tr>\n",
       "    <tr>\n",
       "      <th>138</th>\n",
       "      <td>622.0</td>\n",
       "      <td>1960-07-01</td>\n",
       "    </tr>\n",
       "    <tr>\n",
       "      <th>139</th>\n",
       "      <td>606.0</td>\n",
       "      <td>1960-08-01</td>\n",
       "    </tr>\n",
       "    <tr>\n",
       "      <th>140</th>\n",
       "      <td>508.0</td>\n",
       "      <td>1960-09-01</td>\n",
       "    </tr>\n",
       "    <tr>\n",
       "      <th>141</th>\n",
       "      <td>461.0</td>\n",
       "      <td>1960-10-01</td>\n",
       "    </tr>\n",
       "    <tr>\n",
       "      <th>142</th>\n",
       "      <td>390.0</td>\n",
       "      <td>1960-11-01</td>\n",
       "    </tr>\n",
       "    <tr>\n",
       "      <th>143</th>\n",
       "      <td>432.0</td>\n",
       "      <td>1960-12-01</td>\n",
       "    </tr>\n",
       "  </tbody>\n",
       "</table>\n",
       "</div>"
      ],
      "text/plain": [
       "     Passengers       Date\n",
       "132       417.0 1960-01-01\n",
       "133       391.0 1960-02-01\n",
       "134       419.0 1960-03-01\n",
       "135       461.0 1960-04-01\n",
       "136       472.0 1960-05-01\n",
       "137       535.0 1960-06-01\n",
       "138       622.0 1960-07-01\n",
       "139       606.0 1960-08-01\n",
       "140       508.0 1960-09-01\n",
       "141       461.0 1960-10-01\n",
       "142       390.0 1960-11-01\n",
       "143       432.0 1960-12-01"
      ]
     },
     "execution_count": 15,
     "metadata": {},
     "output_type": "execute_result"
    }
   ],
   "source": [
    "y_observed= ts_df[-12:]\n",
    "y_observed"
   ]
  },
  {
   "cell_type": "code",
   "execution_count": 26,
   "metadata": {},
   "outputs": [
    {
     "data": {
      "application/vnd.plotly.v1+json": {
       "config": {
        "plotlyServerURL": "https://plot.ly"
       },
       "data": [
        {
         "line": {
          "color": "rgb(31, 119, 180)",
          "width": 2
         },
         "marker": {
          "color": "rgb(31, 119, 180)",
          "size": 5
         },
         "mode": "lines+markers",
         "name": "Passengers",
         "type": "scattergl",
         "x": [
          0,
          1,
          2,
          3,
          4,
          5,
          6,
          7,
          8,
          9,
          10,
          11,
          12,
          13,
          14,
          15,
          16,
          17,
          18,
          19,
          20,
          21,
          22,
          23,
          24,
          25,
          26,
          27,
          28,
          29,
          30,
          31,
          32,
          33,
          34,
          35,
          36,
          37,
          38,
          39,
          40,
          41,
          42,
          43,
          44,
          45,
          46,
          47,
          48,
          49,
          50,
          51,
          52,
          53,
          54,
          55,
          56,
          57,
          58,
          59,
          60,
          61,
          62,
          63,
          64,
          65,
          66,
          67,
          68,
          69,
          70,
          71,
          72,
          73,
          74,
          75,
          76,
          77,
          78,
          79,
          80,
          81,
          82,
          83,
          84,
          85,
          86,
          87,
          88,
          89,
          90,
          91,
          92,
          93,
          94,
          95,
          96,
          97,
          98,
          99,
          100,
          101,
          102,
          103,
          104,
          105,
          106,
          107,
          108,
          109,
          110,
          111,
          112,
          113,
          114,
          115,
          116,
          117,
          118,
          119,
          120,
          121,
          122,
          123,
          124,
          125,
          126,
          127,
          128,
          129,
          130,
          131,
          132,
          133,
          134,
          135,
          136,
          137,
          138,
          139,
          140,
          141,
          142,
          143
         ],
         "xaxis": "x",
         "y": [
          112,
          118,
          132,
          129,
          121,
          135,
          148,
          148,
          136,
          119,
          104,
          118,
          115,
          126,
          141,
          135,
          125,
          149,
          170,
          170,
          158,
          133,
          114,
          140,
          145,
          150,
          178,
          163,
          172,
          178,
          199,
          199,
          184,
          162,
          146,
          166,
          171,
          180,
          193,
          181,
          183,
          218,
          230,
          242,
          209,
          191,
          172,
          194,
          196,
          196,
          236,
          235,
          229,
          243,
          264,
          272,
          237,
          211,
          180,
          201,
          204,
          188,
          235,
          227,
          234,
          264,
          302,
          293,
          259,
          229,
          203,
          229,
          242,
          233,
          267,
          269,
          270,
          315,
          364,
          347,
          312,
          274,
          237,
          278,
          284,
          277,
          317,
          313,
          318,
          374,
          413,
          405,
          355,
          306,
          271,
          306,
          315,
          301,
          356,
          348,
          355,
          422,
          465,
          467,
          404,
          347,
          305,
          336,
          340,
          318,
          362,
          348,
          363,
          435,
          491,
          505,
          404,
          359,
          310,
          337,
          360,
          342,
          406,
          396,
          420,
          472,
          548,
          559,
          463,
          407,
          362,
          405,
          417,
          391,
          419,
          461,
          472,
          535,
          622,
          606,
          508,
          461,
          390,
          432
         ],
         "yaxis": "y"
        },
        {
         "line": {
          "color": "rgb(255, 127, 14)",
          "width": 2
         },
         "marker": {
          "color": "rgb(255, 127, 14)",
          "size": 5
         },
         "mode": "lines+markers",
         "name": "STLF",
         "type": "scattergl",
         "x": [
          0,
          1,
          2,
          3,
          4,
          5,
          6,
          7,
          8,
          9,
          10,
          11,
          12,
          13,
          14,
          15,
          16,
          17,
          18,
          19,
          20,
          21,
          22,
          23,
          24,
          25,
          26,
          27,
          28,
          29,
          30,
          31,
          32,
          33,
          34,
          35,
          36,
          37,
          38,
          39,
          40,
          41,
          42,
          43,
          44,
          45,
          46,
          47,
          48,
          49,
          50,
          51,
          52,
          53,
          54,
          55,
          56,
          57,
          58,
          59,
          60,
          61,
          62,
          63,
          64,
          65,
          66,
          67,
          68,
          69,
          70,
          71,
          72,
          73,
          74,
          75,
          76,
          77,
          78,
          79,
          80,
          81,
          82,
          83,
          84,
          85,
          86,
          87,
          88,
          89,
          90,
          91,
          92,
          93,
          94,
          95,
          96,
          97,
          98,
          99,
          100,
          101,
          102,
          103,
          104,
          105,
          106,
          107,
          108,
          109,
          110,
          111,
          112,
          113,
          114,
          115,
          116,
          117,
          118,
          119,
          120,
          121,
          122,
          123,
          124,
          125,
          126,
          127,
          128,
          129,
          130,
          131,
          132,
          133,
          134,
          135,
          136,
          137,
          138,
          139,
          140,
          141,
          142,
          143
         ],
         "xaxis": "x",
         "y": [
          null,
          null,
          null,
          null,
          null,
          null,
          null,
          null,
          null,
          null,
          null,
          null,
          null,
          null,
          null,
          null,
          null,
          null,
          null,
          null,
          null,
          null,
          null,
          null,
          null,
          null,
          null,
          null,
          null,
          null,
          null,
          null,
          null,
          null,
          null,
          null,
          null,
          null,
          null,
          null,
          null,
          null,
          null,
          null,
          null,
          null,
          null,
          null,
          null,
          null,
          null,
          null,
          null,
          null,
          null,
          null,
          null,
          null,
          null,
          null,
          null,
          null,
          null,
          null,
          null,
          null,
          null,
          null,
          null,
          null,
          null,
          null,
          null,
          null,
          null,
          null,
          null,
          null,
          null,
          null,
          null,
          null,
          null,
          null,
          null,
          null,
          null,
          null,
          null,
          null,
          null,
          null,
          null,
          null,
          null,
          null,
          null,
          null,
          null,
          null,
          null,
          null,
          null,
          null,
          null,
          null,
          null,
          null,
          null,
          null,
          null,
          null,
          null,
          null,
          null,
          null,
          null,
          null,
          null,
          null,
          null,
          null,
          null,
          null,
          null,
          null,
          null,
          null,
          null,
          null,
          null,
          null,
          412.7887,
          392.1058,
          450.6861,
          437.362,
          458.0834,
          521.1075,
          588.3774,
          602.2847,
          498.8244,
          442.8977,
          393.7029,
          428.4061
         ],
         "yaxis": "y"
        }
       ],
       "layout": {
        "showlegend": true,
        "template": {
         "data": {
          "bar": [
           {
            "error_x": {
             "color": "rgb(51,51,51)"
            },
            "error_y": {
             "color": "rgb(51,51,51)"
            },
            "marker": {
             "line": {
              "color": "rgb(237,237,237)",
              "width": 0.5
             },
             "pattern": {
              "fillmode": "overlay",
              "size": 10,
              "solidity": 0.2
             }
            },
            "type": "bar"
           }
          ],
          "barpolar": [
           {
            "marker": {
             "line": {
              "color": "rgb(237,237,237)",
              "width": 0.5
             },
             "pattern": {
              "fillmode": "overlay",
              "size": 10,
              "solidity": 0.2
             }
            },
            "type": "barpolar"
           }
          ],
          "carpet": [
           {
            "aaxis": {
             "endlinecolor": "rgb(51,51,51)",
             "gridcolor": "white",
             "linecolor": "white",
             "minorgridcolor": "white",
             "startlinecolor": "rgb(51,51,51)"
            },
            "baxis": {
             "endlinecolor": "rgb(51,51,51)",
             "gridcolor": "white",
             "linecolor": "white",
             "minorgridcolor": "white",
             "startlinecolor": "rgb(51,51,51)"
            },
            "type": "carpet"
           }
          ],
          "choropleth": [
           {
            "colorbar": {
             "outlinewidth": 0,
             "tickcolor": "rgb(237,237,237)",
             "ticklen": 6,
             "ticks": "inside"
            },
            "type": "choropleth"
           }
          ],
          "contour": [
           {
            "colorbar": {
             "outlinewidth": 0,
             "tickcolor": "rgb(237,237,237)",
             "ticklen": 6,
             "ticks": "inside"
            },
            "colorscale": [
             [
              0,
              "rgb(20,44,66)"
             ],
             [
              1,
              "rgb(90,179,244)"
             ]
            ],
            "type": "contour"
           }
          ],
          "contourcarpet": [
           {
            "colorbar": {
             "outlinewidth": 0,
             "tickcolor": "rgb(237,237,237)",
             "ticklen": 6,
             "ticks": "inside"
            },
            "type": "contourcarpet"
           }
          ],
          "heatmap": [
           {
            "colorbar": {
             "outlinewidth": 0,
             "tickcolor": "rgb(237,237,237)",
             "ticklen": 6,
             "ticks": "inside"
            },
            "colorscale": [
             [
              0,
              "rgb(20,44,66)"
             ],
             [
              1,
              "rgb(90,179,244)"
             ]
            ],
            "type": "heatmap"
           }
          ],
          "heatmapgl": [
           {
            "colorbar": {
             "outlinewidth": 0,
             "tickcolor": "rgb(237,237,237)",
             "ticklen": 6,
             "ticks": "inside"
            },
            "colorscale": [
             [
              0,
              "rgb(20,44,66)"
             ],
             [
              1,
              "rgb(90,179,244)"
             ]
            ],
            "type": "heatmapgl"
           }
          ],
          "histogram": [
           {
            "marker": {
             "pattern": {
              "fillmode": "overlay",
              "size": 10,
              "solidity": 0.2
             }
            },
            "type": "histogram"
           }
          ],
          "histogram2d": [
           {
            "colorbar": {
             "outlinewidth": 0,
             "tickcolor": "rgb(237,237,237)",
             "ticklen": 6,
             "ticks": "inside"
            },
            "colorscale": [
             [
              0,
              "rgb(20,44,66)"
             ],
             [
              1,
              "rgb(90,179,244)"
             ]
            ],
            "type": "histogram2d"
           }
          ],
          "histogram2dcontour": [
           {
            "colorbar": {
             "outlinewidth": 0,
             "tickcolor": "rgb(237,237,237)",
             "ticklen": 6,
             "ticks": "inside"
            },
            "colorscale": [
             [
              0,
              "rgb(20,44,66)"
             ],
             [
              1,
              "rgb(90,179,244)"
             ]
            ],
            "type": "histogram2dcontour"
           }
          ],
          "mesh3d": [
           {
            "colorbar": {
             "outlinewidth": 0,
             "tickcolor": "rgb(237,237,237)",
             "ticklen": 6,
             "ticks": "inside"
            },
            "type": "mesh3d"
           }
          ],
          "parcoords": [
           {
            "line": {
             "colorbar": {
              "outlinewidth": 0,
              "tickcolor": "rgb(237,237,237)",
              "ticklen": 6,
              "ticks": "inside"
             }
            },
            "type": "parcoords"
           }
          ],
          "pie": [
           {
            "automargin": true,
            "type": "pie"
           }
          ],
          "scatter": [
           {
            "fillpattern": {
             "fillmode": "overlay",
             "size": 10,
             "solidity": 0.2
            },
            "type": "scatter"
           }
          ],
          "scatter3d": [
           {
            "line": {
             "colorbar": {
              "outlinewidth": 0,
              "tickcolor": "rgb(237,237,237)",
              "ticklen": 6,
              "ticks": "inside"
             }
            },
            "marker": {
             "colorbar": {
              "outlinewidth": 0,
              "tickcolor": "rgb(237,237,237)",
              "ticklen": 6,
              "ticks": "inside"
             }
            },
            "type": "scatter3d"
           }
          ],
          "scattercarpet": [
           {
            "marker": {
             "colorbar": {
              "outlinewidth": 0,
              "tickcolor": "rgb(237,237,237)",
              "ticklen": 6,
              "ticks": "inside"
             }
            },
            "type": "scattercarpet"
           }
          ],
          "scattergeo": [
           {
            "marker": {
             "colorbar": {
              "outlinewidth": 0,
              "tickcolor": "rgb(237,237,237)",
              "ticklen": 6,
              "ticks": "inside"
             }
            },
            "type": "scattergeo"
           }
          ],
          "scattergl": [
           {
            "marker": {
             "colorbar": {
              "outlinewidth": 0,
              "tickcolor": "rgb(237,237,237)",
              "ticklen": 6,
              "ticks": "inside"
             }
            },
            "type": "scattergl"
           }
          ],
          "scattermapbox": [
           {
            "marker": {
             "colorbar": {
              "outlinewidth": 0,
              "tickcolor": "rgb(237,237,237)",
              "ticklen": 6,
              "ticks": "inside"
             }
            },
            "type": "scattermapbox"
           }
          ],
          "scatterpolar": [
           {
            "marker": {
             "colorbar": {
              "outlinewidth": 0,
              "tickcolor": "rgb(237,237,237)",
              "ticklen": 6,
              "ticks": "inside"
             }
            },
            "type": "scatterpolar"
           }
          ],
          "scatterpolargl": [
           {
            "marker": {
             "colorbar": {
              "outlinewidth": 0,
              "tickcolor": "rgb(237,237,237)",
              "ticklen": 6,
              "ticks": "inside"
             }
            },
            "type": "scatterpolargl"
           }
          ],
          "scatterternary": [
           {
            "marker": {
             "colorbar": {
              "outlinewidth": 0,
              "tickcolor": "rgb(237,237,237)",
              "ticklen": 6,
              "ticks": "inside"
             }
            },
            "type": "scatterternary"
           }
          ],
          "surface": [
           {
            "colorbar": {
             "outlinewidth": 0,
             "tickcolor": "rgb(237,237,237)",
             "ticklen": 6,
             "ticks": "inside"
            },
            "colorscale": [
             [
              0,
              "rgb(20,44,66)"
             ],
             [
              1,
              "rgb(90,179,244)"
             ]
            ],
            "type": "surface"
           }
          ],
          "table": [
           {
            "cells": {
             "fill": {
              "color": "rgb(237,237,237)"
             },
             "line": {
              "color": "white"
             }
            },
            "header": {
             "fill": {
              "color": "rgb(217,217,217)"
             },
             "line": {
              "color": "white"
             }
            },
            "type": "table"
           }
          ]
         },
         "layout": {
          "annotationdefaults": {
           "arrowhead": 0,
           "arrowwidth": 1
          },
          "autotypenumbers": "strict",
          "coloraxis": {
           "colorbar": {
            "outlinewidth": 0,
            "tickcolor": "rgb(237,237,237)",
            "ticklen": 6,
            "ticks": "inside"
           }
          },
          "colorscale": {
           "sequential": [
            [
             0,
             "rgb(20,44,66)"
            ],
            [
             1,
             "rgb(90,179,244)"
            ]
           ],
           "sequentialminus": [
            [
             0,
             "rgb(20,44,66)"
            ],
            [
             1,
             "rgb(90,179,244)"
            ]
           ]
          },
          "colorway": [
           "#F8766D",
           "#A3A500",
           "#00BF7D",
           "#00B0F6",
           "#E76BF3"
          ],
          "font": {
           "color": "rgb(51,51,51)"
          },
          "geo": {
           "bgcolor": "white",
           "lakecolor": "white",
           "landcolor": "rgb(237,237,237)",
           "showlakes": true,
           "showland": true,
           "subunitcolor": "white"
          },
          "hoverlabel": {
           "align": "left"
          },
          "hovermode": "closest",
          "paper_bgcolor": "white",
          "plot_bgcolor": "rgb(237,237,237)",
          "polar": {
           "angularaxis": {
            "gridcolor": "white",
            "linecolor": "white",
            "showgrid": true,
            "tickcolor": "rgb(51,51,51)",
            "ticks": "outside"
           },
           "bgcolor": "rgb(237,237,237)",
           "radialaxis": {
            "gridcolor": "white",
            "linecolor": "white",
            "showgrid": true,
            "tickcolor": "rgb(51,51,51)",
            "ticks": "outside"
           }
          },
          "scene": {
           "xaxis": {
            "backgroundcolor": "rgb(237,237,237)",
            "gridcolor": "white",
            "gridwidth": 2,
            "linecolor": "white",
            "showbackground": true,
            "showgrid": true,
            "tickcolor": "rgb(51,51,51)",
            "ticks": "outside",
            "zerolinecolor": "white"
           },
           "yaxis": {
            "backgroundcolor": "rgb(237,237,237)",
            "gridcolor": "white",
            "gridwidth": 2,
            "linecolor": "white",
            "showbackground": true,
            "showgrid": true,
            "tickcolor": "rgb(51,51,51)",
            "ticks": "outside",
            "zerolinecolor": "white"
           },
           "zaxis": {
            "backgroundcolor": "rgb(237,237,237)",
            "gridcolor": "white",
            "gridwidth": 2,
            "linecolor": "white",
            "showbackground": true,
            "showgrid": true,
            "tickcolor": "rgb(51,51,51)",
            "ticks": "outside",
            "zerolinecolor": "white"
           }
          },
          "shapedefaults": {
           "fillcolor": "black",
           "line": {
            "width": 0
           },
           "opacity": 0.3
          },
          "ternary": {
           "aaxis": {
            "gridcolor": "white",
            "linecolor": "white",
            "showgrid": true,
            "tickcolor": "rgb(51,51,51)",
            "ticks": "outside"
           },
           "baxis": {
            "gridcolor": "white",
            "linecolor": "white",
            "showgrid": true,
            "tickcolor": "rgb(51,51,51)",
            "ticks": "outside"
           },
           "bgcolor": "rgb(237,237,237)",
           "caxis": {
            "gridcolor": "white",
            "linecolor": "white",
            "showgrid": true,
            "tickcolor": "rgb(51,51,51)",
            "ticks": "outside"
           }
          },
          "xaxis": {
           "automargin": true,
           "gridcolor": "white",
           "linecolor": "white",
           "showgrid": true,
           "tickcolor": "rgb(51,51,51)",
           "ticks": "outside",
           "title": {
            "standoff": 15
           },
           "zerolinecolor": "white"
          },
          "yaxis": {
           "automargin": true,
           "gridcolor": "white",
           "linecolor": "white",
           "showgrid": true,
           "tickcolor": "rgb(51,51,51)",
           "ticks": "outside",
           "title": {
            "standoff": 15
           },
           "zerolinecolor": "white"
          }
         }
        },
        "title": {
         "text": "Actual vs. Forecast (Out-of-Sample)"
        },
        "xaxis": {
         "anchor": "y",
         "domain": [
          0,
          1
         ]
        },
        "yaxis": {
         "anchor": "x",
         "domain": [
          0,
          1
         ]
        }
       }
      }
     },
     "metadata": {},
     "output_type": "display_data"
    }
   ],
   "source": [
    "# plot forecast for test dataset (last 12  observed months)\n",
    "\n",
    "plot_model(top_model, plot = 'forecast')\n",
    "plt.show()\n",
    "#https://github.com/cihernand/forecasting/blob/master/Forecast_last12monthsObserved.png"
   ]
  },
  {
   "cell_type": "code",
   "execution_count": 25,
   "metadata": {},
   "outputs": [
    {
     "data": {
      "application/vnd.plotly.v1+json": {
       "config": {
        "plotlyServerURL": "https://plot.ly"
       },
       "data": [
        {
         "line": {
          "color": "rgb(31, 119, 180)",
          "width": 2
         },
         "marker": {
          "color": "rgb(31, 119, 180)",
          "size": 5
         },
         "mode": "lines+markers",
         "name": "Passengers",
         "type": "scattergl",
         "x": [
          0,
          1,
          2,
          3,
          4,
          5,
          6,
          7,
          8,
          9,
          10,
          11,
          12,
          13,
          14,
          15,
          16,
          17,
          18,
          19,
          20,
          21,
          22,
          23,
          24,
          25,
          26,
          27,
          28,
          29,
          30,
          31,
          32,
          33,
          34,
          35,
          36,
          37,
          38,
          39,
          40,
          41,
          42,
          43,
          44,
          45,
          46,
          47,
          48,
          49,
          50,
          51,
          52,
          53,
          54,
          55,
          56,
          57,
          58,
          59,
          60,
          61,
          62,
          63,
          64,
          65,
          66,
          67,
          68,
          69,
          70,
          71,
          72,
          73,
          74,
          75,
          76,
          77,
          78,
          79,
          80,
          81,
          82,
          83,
          84,
          85,
          86,
          87,
          88,
          89,
          90,
          91,
          92,
          93,
          94,
          95,
          96,
          97,
          98,
          99,
          100,
          101,
          102,
          103,
          104,
          105,
          106,
          107,
          108,
          109,
          110,
          111,
          112,
          113,
          114,
          115,
          116,
          117,
          118,
          119,
          120,
          121,
          122,
          123,
          124,
          125,
          126,
          127,
          128,
          129,
          130,
          131,
          132,
          133,
          134,
          135,
          136,
          137,
          138,
          139,
          140,
          141,
          142,
          143,
          144,
          145,
          146,
          147,
          148,
          149,
          150,
          151,
          152,
          153,
          154,
          155
         ],
         "xaxis": "x",
         "y": [
          112,
          118,
          132,
          129,
          121,
          135,
          148,
          148,
          136,
          119,
          104,
          118,
          115,
          126,
          141,
          135,
          125,
          149,
          170,
          170,
          158,
          133,
          114,
          140,
          145,
          150,
          178,
          163,
          172,
          178,
          199,
          199,
          184,
          162,
          146,
          166,
          171,
          180,
          193,
          181,
          183,
          218,
          230,
          242,
          209,
          191,
          172,
          194,
          196,
          196,
          236,
          235,
          229,
          243,
          264,
          272,
          237,
          211,
          180,
          201,
          204,
          188,
          235,
          227,
          234,
          264,
          302,
          293,
          259,
          229,
          203,
          229,
          242,
          233,
          267,
          269,
          270,
          315,
          364,
          347,
          312,
          274,
          237,
          278,
          284,
          277,
          317,
          313,
          318,
          374,
          413,
          405,
          355,
          306,
          271,
          306,
          315,
          301,
          356,
          348,
          355,
          422,
          465,
          467,
          404,
          347,
          305,
          336,
          340,
          318,
          362,
          348,
          363,
          435,
          491,
          505,
          404,
          359,
          310,
          337,
          360,
          342,
          406,
          396,
          420,
          472,
          548,
          559,
          463,
          407,
          362,
          405,
          417,
          391,
          419,
          461,
          472,
          535,
          622,
          606,
          508,
          461,
          390,
          432,
          null,
          null,
          null,
          null,
          null,
          null,
          null,
          null,
          null,
          null,
          null,
          null
         ],
         "yaxis": "y"
        },
        {
         "line": {
          "color": "rgb(255, 127, 14)",
          "width": 2
         },
         "marker": {
          "color": "rgb(255, 127, 14)",
          "size": 5
         },
         "mode": "lines+markers",
         "name": "STLF",
         "type": "scattergl",
         "x": [
          0,
          1,
          2,
          3,
          4,
          5,
          6,
          7,
          8,
          9,
          10,
          11,
          12,
          13,
          14,
          15,
          16,
          17,
          18,
          19,
          20,
          21,
          22,
          23,
          24,
          25,
          26,
          27,
          28,
          29,
          30,
          31,
          32,
          33,
          34,
          35,
          36,
          37,
          38,
          39,
          40,
          41,
          42,
          43,
          44,
          45,
          46,
          47,
          48,
          49,
          50,
          51,
          52,
          53,
          54,
          55,
          56,
          57,
          58,
          59,
          60,
          61,
          62,
          63,
          64,
          65,
          66,
          67,
          68,
          69,
          70,
          71,
          72,
          73,
          74,
          75,
          76,
          77,
          78,
          79,
          80,
          81,
          82,
          83,
          84,
          85,
          86,
          87,
          88,
          89,
          90,
          91,
          92,
          93,
          94,
          95,
          96,
          97,
          98,
          99,
          100,
          101,
          102,
          103,
          104,
          105,
          106,
          107,
          108,
          109,
          110,
          111,
          112,
          113,
          114,
          115,
          116,
          117,
          118,
          119,
          120,
          121,
          122,
          123,
          124,
          125,
          126,
          127,
          128,
          129,
          130,
          131,
          132,
          133,
          134,
          135,
          136,
          137,
          138,
          139,
          140,
          141,
          142,
          143,
          144,
          145,
          146,
          147,
          148,
          149,
          150,
          151,
          152,
          153,
          154,
          155
         ],
         "xaxis": "x",
         "y": [
          null,
          null,
          null,
          null,
          null,
          null,
          null,
          null,
          null,
          null,
          null,
          null,
          null,
          null,
          null,
          null,
          null,
          null,
          null,
          null,
          null,
          null,
          null,
          null,
          null,
          null,
          null,
          null,
          null,
          null,
          null,
          null,
          null,
          null,
          null,
          null,
          null,
          null,
          null,
          null,
          null,
          null,
          null,
          null,
          null,
          null,
          null,
          null,
          null,
          null,
          null,
          null,
          null,
          null,
          null,
          null,
          null,
          null,
          null,
          null,
          null,
          null,
          null,
          null,
          null,
          null,
          null,
          null,
          null,
          null,
          null,
          null,
          null,
          null,
          null,
          null,
          null,
          null,
          null,
          null,
          null,
          null,
          null,
          null,
          null,
          null,
          null,
          null,
          null,
          null,
          null,
          null,
          null,
          null,
          null,
          null,
          null,
          null,
          null,
          null,
          null,
          null,
          null,
          null,
          null,
          null,
          null,
          null,
          null,
          null,
          null,
          null,
          null,
          null,
          null,
          null,
          null,
          null,
          null,
          null,
          null,
          null,
          null,
          null,
          null,
          null,
          null,
          null,
          null,
          null,
          null,
          null,
          412.7887,
          392.1058,
          450.6861,
          437.362,
          458.0834,
          521.1075,
          588.3774,
          602.2847,
          498.8244,
          442.8977,
          393.7029,
          428.4061,
          442.9962,
          422.3133,
          480.8936,
          467.5695,
          488.291,
          551.315,
          618.585,
          632.4922,
          529.0319,
          473.1052,
          423.9104,
          458.6137
         ],
         "yaxis": "y"
        }
       ],
       "layout": {
        "showlegend": true,
        "template": {
         "data": {
          "bar": [
           {
            "error_x": {
             "color": "rgb(51,51,51)"
            },
            "error_y": {
             "color": "rgb(51,51,51)"
            },
            "marker": {
             "line": {
              "color": "rgb(237,237,237)",
              "width": 0.5
             },
             "pattern": {
              "fillmode": "overlay",
              "size": 10,
              "solidity": 0.2
             }
            },
            "type": "bar"
           }
          ],
          "barpolar": [
           {
            "marker": {
             "line": {
              "color": "rgb(237,237,237)",
              "width": 0.5
             },
             "pattern": {
              "fillmode": "overlay",
              "size": 10,
              "solidity": 0.2
             }
            },
            "type": "barpolar"
           }
          ],
          "carpet": [
           {
            "aaxis": {
             "endlinecolor": "rgb(51,51,51)",
             "gridcolor": "white",
             "linecolor": "white",
             "minorgridcolor": "white",
             "startlinecolor": "rgb(51,51,51)"
            },
            "baxis": {
             "endlinecolor": "rgb(51,51,51)",
             "gridcolor": "white",
             "linecolor": "white",
             "minorgridcolor": "white",
             "startlinecolor": "rgb(51,51,51)"
            },
            "type": "carpet"
           }
          ],
          "choropleth": [
           {
            "colorbar": {
             "outlinewidth": 0,
             "tickcolor": "rgb(237,237,237)",
             "ticklen": 6,
             "ticks": "inside"
            },
            "type": "choropleth"
           }
          ],
          "contour": [
           {
            "colorbar": {
             "outlinewidth": 0,
             "tickcolor": "rgb(237,237,237)",
             "ticklen": 6,
             "ticks": "inside"
            },
            "colorscale": [
             [
              0,
              "rgb(20,44,66)"
             ],
             [
              1,
              "rgb(90,179,244)"
             ]
            ],
            "type": "contour"
           }
          ],
          "contourcarpet": [
           {
            "colorbar": {
             "outlinewidth": 0,
             "tickcolor": "rgb(237,237,237)",
             "ticklen": 6,
             "ticks": "inside"
            },
            "type": "contourcarpet"
           }
          ],
          "heatmap": [
           {
            "colorbar": {
             "outlinewidth": 0,
             "tickcolor": "rgb(237,237,237)",
             "ticklen": 6,
             "ticks": "inside"
            },
            "colorscale": [
             [
              0,
              "rgb(20,44,66)"
             ],
             [
              1,
              "rgb(90,179,244)"
             ]
            ],
            "type": "heatmap"
           }
          ],
          "heatmapgl": [
           {
            "colorbar": {
             "outlinewidth": 0,
             "tickcolor": "rgb(237,237,237)",
             "ticklen": 6,
             "ticks": "inside"
            },
            "colorscale": [
             [
              0,
              "rgb(20,44,66)"
             ],
             [
              1,
              "rgb(90,179,244)"
             ]
            ],
            "type": "heatmapgl"
           }
          ],
          "histogram": [
           {
            "marker": {
             "pattern": {
              "fillmode": "overlay",
              "size": 10,
              "solidity": 0.2
             }
            },
            "type": "histogram"
           }
          ],
          "histogram2d": [
           {
            "colorbar": {
             "outlinewidth": 0,
             "tickcolor": "rgb(237,237,237)",
             "ticklen": 6,
             "ticks": "inside"
            },
            "colorscale": [
             [
              0,
              "rgb(20,44,66)"
             ],
             [
              1,
              "rgb(90,179,244)"
             ]
            ],
            "type": "histogram2d"
           }
          ],
          "histogram2dcontour": [
           {
            "colorbar": {
             "outlinewidth": 0,
             "tickcolor": "rgb(237,237,237)",
             "ticklen": 6,
             "ticks": "inside"
            },
            "colorscale": [
             [
              0,
              "rgb(20,44,66)"
             ],
             [
              1,
              "rgb(90,179,244)"
             ]
            ],
            "type": "histogram2dcontour"
           }
          ],
          "mesh3d": [
           {
            "colorbar": {
             "outlinewidth": 0,
             "tickcolor": "rgb(237,237,237)",
             "ticklen": 6,
             "ticks": "inside"
            },
            "type": "mesh3d"
           }
          ],
          "parcoords": [
           {
            "line": {
             "colorbar": {
              "outlinewidth": 0,
              "tickcolor": "rgb(237,237,237)",
              "ticklen": 6,
              "ticks": "inside"
             }
            },
            "type": "parcoords"
           }
          ],
          "pie": [
           {
            "automargin": true,
            "type": "pie"
           }
          ],
          "scatter": [
           {
            "fillpattern": {
             "fillmode": "overlay",
             "size": 10,
             "solidity": 0.2
            },
            "type": "scatter"
           }
          ],
          "scatter3d": [
           {
            "line": {
             "colorbar": {
              "outlinewidth": 0,
              "tickcolor": "rgb(237,237,237)",
              "ticklen": 6,
              "ticks": "inside"
             }
            },
            "marker": {
             "colorbar": {
              "outlinewidth": 0,
              "tickcolor": "rgb(237,237,237)",
              "ticklen": 6,
              "ticks": "inside"
             }
            },
            "type": "scatter3d"
           }
          ],
          "scattercarpet": [
           {
            "marker": {
             "colorbar": {
              "outlinewidth": 0,
              "tickcolor": "rgb(237,237,237)",
              "ticklen": 6,
              "ticks": "inside"
             }
            },
            "type": "scattercarpet"
           }
          ],
          "scattergeo": [
           {
            "marker": {
             "colorbar": {
              "outlinewidth": 0,
              "tickcolor": "rgb(237,237,237)",
              "ticklen": 6,
              "ticks": "inside"
             }
            },
            "type": "scattergeo"
           }
          ],
          "scattergl": [
           {
            "marker": {
             "colorbar": {
              "outlinewidth": 0,
              "tickcolor": "rgb(237,237,237)",
              "ticklen": 6,
              "ticks": "inside"
             }
            },
            "type": "scattergl"
           }
          ],
          "scattermapbox": [
           {
            "marker": {
             "colorbar": {
              "outlinewidth": 0,
              "tickcolor": "rgb(237,237,237)",
              "ticklen": 6,
              "ticks": "inside"
             }
            },
            "type": "scattermapbox"
           }
          ],
          "scatterpolar": [
           {
            "marker": {
             "colorbar": {
              "outlinewidth": 0,
              "tickcolor": "rgb(237,237,237)",
              "ticklen": 6,
              "ticks": "inside"
             }
            },
            "type": "scatterpolar"
           }
          ],
          "scatterpolargl": [
           {
            "marker": {
             "colorbar": {
              "outlinewidth": 0,
              "tickcolor": "rgb(237,237,237)",
              "ticklen": 6,
              "ticks": "inside"
             }
            },
            "type": "scatterpolargl"
           }
          ],
          "scatterternary": [
           {
            "marker": {
             "colorbar": {
              "outlinewidth": 0,
              "tickcolor": "rgb(237,237,237)",
              "ticklen": 6,
              "ticks": "inside"
             }
            },
            "type": "scatterternary"
           }
          ],
          "surface": [
           {
            "colorbar": {
             "outlinewidth": 0,
             "tickcolor": "rgb(237,237,237)",
             "ticklen": 6,
             "ticks": "inside"
            },
            "colorscale": [
             [
              0,
              "rgb(20,44,66)"
             ],
             [
              1,
              "rgb(90,179,244)"
             ]
            ],
            "type": "surface"
           }
          ],
          "table": [
           {
            "cells": {
             "fill": {
              "color": "rgb(237,237,237)"
             },
             "line": {
              "color": "white"
             }
            },
            "header": {
             "fill": {
              "color": "rgb(217,217,217)"
             },
             "line": {
              "color": "white"
             }
            },
            "type": "table"
           }
          ]
         },
         "layout": {
          "annotationdefaults": {
           "arrowhead": 0,
           "arrowwidth": 1
          },
          "autotypenumbers": "strict",
          "coloraxis": {
           "colorbar": {
            "outlinewidth": 0,
            "tickcolor": "rgb(237,237,237)",
            "ticklen": 6,
            "ticks": "inside"
           }
          },
          "colorscale": {
           "sequential": [
            [
             0,
             "rgb(20,44,66)"
            ],
            [
             1,
             "rgb(90,179,244)"
            ]
           ],
           "sequentialminus": [
            [
             0,
             "rgb(20,44,66)"
            ],
            [
             1,
             "rgb(90,179,244)"
            ]
           ]
          },
          "colorway": [
           "#F8766D",
           "#A3A500",
           "#00BF7D",
           "#00B0F6",
           "#E76BF3"
          ],
          "font": {
           "color": "rgb(51,51,51)"
          },
          "geo": {
           "bgcolor": "white",
           "lakecolor": "white",
           "landcolor": "rgb(237,237,237)",
           "showlakes": true,
           "showland": true,
           "subunitcolor": "white"
          },
          "hoverlabel": {
           "align": "left"
          },
          "hovermode": "closest",
          "paper_bgcolor": "white",
          "plot_bgcolor": "rgb(237,237,237)",
          "polar": {
           "angularaxis": {
            "gridcolor": "white",
            "linecolor": "white",
            "showgrid": true,
            "tickcolor": "rgb(51,51,51)",
            "ticks": "outside"
           },
           "bgcolor": "rgb(237,237,237)",
           "radialaxis": {
            "gridcolor": "white",
            "linecolor": "white",
            "showgrid": true,
            "tickcolor": "rgb(51,51,51)",
            "ticks": "outside"
           }
          },
          "scene": {
           "xaxis": {
            "backgroundcolor": "rgb(237,237,237)",
            "gridcolor": "white",
            "gridwidth": 2,
            "linecolor": "white",
            "showbackground": true,
            "showgrid": true,
            "tickcolor": "rgb(51,51,51)",
            "ticks": "outside",
            "zerolinecolor": "white"
           },
           "yaxis": {
            "backgroundcolor": "rgb(237,237,237)",
            "gridcolor": "white",
            "gridwidth": 2,
            "linecolor": "white",
            "showbackground": true,
            "showgrid": true,
            "tickcolor": "rgb(51,51,51)",
            "ticks": "outside",
            "zerolinecolor": "white"
           },
           "zaxis": {
            "backgroundcolor": "rgb(237,237,237)",
            "gridcolor": "white",
            "gridwidth": 2,
            "linecolor": "white",
            "showbackground": true,
            "showgrid": true,
            "tickcolor": "rgb(51,51,51)",
            "ticks": "outside",
            "zerolinecolor": "white"
           }
          },
          "shapedefaults": {
           "fillcolor": "black",
           "line": {
            "width": 0
           },
           "opacity": 0.3
          },
          "ternary": {
           "aaxis": {
            "gridcolor": "white",
            "linecolor": "white",
            "showgrid": true,
            "tickcolor": "rgb(51,51,51)",
            "ticks": "outside"
           },
           "baxis": {
            "gridcolor": "white",
            "linecolor": "white",
            "showgrid": true,
            "tickcolor": "rgb(51,51,51)",
            "ticks": "outside"
           },
           "bgcolor": "rgb(237,237,237)",
           "caxis": {
            "gridcolor": "white",
            "linecolor": "white",
            "showgrid": true,
            "tickcolor": "rgb(51,51,51)",
            "ticks": "outside"
           }
          },
          "xaxis": {
           "automargin": true,
           "gridcolor": "white",
           "linecolor": "white",
           "showgrid": true,
           "tickcolor": "rgb(51,51,51)",
           "ticks": "outside",
           "title": {
            "standoff": 15
           },
           "zerolinecolor": "white"
          },
          "yaxis": {
           "automargin": true,
           "gridcolor": "white",
           "linecolor": "white",
           "showgrid": true,
           "tickcolor": "rgb(51,51,51)",
           "ticks": "outside",
           "title": {
            "standoff": 15
           },
           "zerolinecolor": "white"
          }
         }
        },
        "title": {
         "text": "Actual vs. Forecast (Out-of-Sample)"
        },
        "xaxis": {
         "anchor": "y",
         "domain": [
          0,
          1
         ]
        },
        "yaxis": {
         "anchor": "x",
         "domain": [
          0,
          1
         ]
        }
       }
      }
     },
     "metadata": {},
     "output_type": "display_data"
    }
   ],
   "source": [
    "# plot forecast for 24 months in future\n",
    "plot_model(top_model, plot = 'forecast',  data_kwargs = {'fh' : 24})\n",
    "plt.show()\n",
    "#https://github.com/cihernand/forecasting/blob/master/Forecast_next24months.png"
   ]
  }
 ],
 "metadata": {
  "kernelspec": {
   "display_name": "forpycaret",
   "language": "python",
   "name": "python3"
  },
  "language_info": {
   "codemirror_mode": {
    "name": "ipython",
    "version": 3
   },
   "file_extension": ".py",
   "mimetype": "text/x-python",
   "name": "python",
   "nbconvert_exporter": "python",
   "pygments_lexer": "ipython3",
   "version": "3.8.18"
  }
 },
 "nbformat": 4,
 "nbformat_minor": 2
}
